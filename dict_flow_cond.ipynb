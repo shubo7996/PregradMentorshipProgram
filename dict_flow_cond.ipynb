{
 "cells": [
  {
   "cell_type": "markdown",
   "metadata": {},
   "source": [
    "## Introduction to Flow Control\n",
    "\n",
    "### Flow control refers to the order in which individual statements, instructions, or function calls are executed or evaluated in a programming language. Python’s primary flow control structures are `if`, `for`, and `while`."
   ]
  },
  {
   "cell_type": "markdown",
   "metadata": {},
   "source": [
    "#### Example Scenario\n",
    "**Scenario:** Imagine you are writing a program for a library system where you need to check if a book is available for borrowing."
   ]
  },
  {
   "cell_type": "markdown",
   "metadata": {},
   "source": [
    "\n",
    "###  Using the `if` Statements\n",
    "\n",
    "Conditions allow you to execute certain pieces of code based on whether a condition is true or false. The `if` statement is used to test a condition and execute a block of code if the condition is true."
   ]
  },
  {
   "cell_type": "code",
   "execution_count": 29,
   "metadata": {},
   "outputs": [
    {
     "name": "stdout",
     "output_type": "stream",
     "text": [
      "The book is currently unavailable.\n"
     ]
    }
   ],
   "source": [
    "book=input(\"Enter book Name:\")\n",
    "\n",
    "is_GOF_avail=True\n",
    "\n",
    "if book==\"Goblet of Fire\":\n",
    "    if is_GOF_avail==True:\n",
    "        print(\"The book is available for borrowing.\")\n",
    "else:\n",
    "    print(\"The book is currently unavailable.\")\n",
    "\n",
    "    "
   ]
  },
  {
   "cell_type": "markdown",
   "metadata": {},
   "source": [
    "#### Using `if`,`else`,`elif` Together.\n",
    "\n",
    "#### `If` is used when you want to ask a question. `else` is used when you have another condition when the If block does'nt satisfy/\n",
    "#### `elif` is used when you have multiple conditions."
   ]
  },
  {
   "cell_type": "code",
   "execution_count": 32,
   "metadata": {},
   "outputs": [
    {
     "name": "stdout",
     "output_type": "stream",
     "text": [
      "Two copies are available.\n"
     ]
    }
   ],
   "source": [
    "copies_available=2\n",
    "\n",
    "#\n",
    "\n",
    "if copies_available == 2:\n",
    "    print(\"Two copies are available.\")\n",
    "elif copies_available == 1:\n",
    "    print(\"Only one copy is available.\")\n",
    "elif copies_available == 0:\n",
    "    print(\"No copies are available.\")\n",
    "else:\n",
    "    print(f\"{copies_available} copies are available.\")"
   ]
  },
  {
   "cell_type": "markdown",
   "metadata": {},
   "source": [
    "### Conditions\n",
    "\n",
    "###  `for` Loops\n",
    "\n",
    "A `for` loop is used for iterating over a sequence (e.g., a list, a tuple, a dictionary, a set, or a string)."
   ]
  },
  {
   "cell_type": "code",
   "execution_count": 64,
   "metadata": {},
   "outputs": [
    {
     "name": "stdout",
     "output_type": "stream",
     "text": [
      "0 Goblet Of Fire\n",
      "1 Prisoner Of Azkaban\n",
      "2 Sorcerers Stone\n",
      "3 Order Of TRhe Phoenix\n",
      "4 Deathly Hallows\n"
     ]
    }
   ],
   "source": [
    "books = [\"Goblet Of Fire\", \"Prisoner Of Azkaban\", \"Sorcerers Stone\", \"Order Of TRhe Phoenix\", \"Deathly Hallows\"]\n",
    "\n",
    "# 1st Way \n",
    "# for i in books:\n",
    "#     print(i)\n",
    "\n",
    "#2nd way\n",
    "for i in range(0,len(books)):\n",
    "    print(books[i])\n",
    "\n",
    "#3rd way\n",
    "for index,book in enumerate(books):\n",
    "    print(index, book)\n",
    "\n",
    "\n",
    "# # #Advanced\n",
    "# import itertools\n",
    "\n",
    "# # # for i in range(0,len(books)):\n",
    "# # #     0--4\n",
    "\n",
    "# for x in itertools.count(0,2):\n",
    "#    if x==len(books):\n",
    "#       break\n",
    "#    print(books[x])\n",
    "   \n",
    "# #     # if x>len(books):\n",
    "# #     #     break\n",
    "# #     # else:\n",
    "# #     #     print(books[x])"
   ]
  },
  {
   "cell_type": "code",
   "execution_count": 72,
   "metadata": {},
   "outputs": [
    {
     "name": "stdout",
     "output_type": "stream",
     "text": [
      "0 Goblet Of Fire\n",
      "1 Prisoner Of Azkaban\n",
      "2 Sorcerers Stone\n",
      "3 Order Of TRhe Phoenix\n",
      "4 Deathly Hallows\n",
      "Sorcerers Stone\n"
     ]
    }
   ],
   "source": [
    "for index,book in enumerate(books):\n",
    "    print(index, book)\n",
    "\n",
    "print(books[2])\n",
    "\n",
    "\n",
    "\n",
    "\n"
   ]
  },
  {
   "cell_type": "markdown",
   "metadata": {},
   "source": [
    "### `while` Loops\n",
    "\n",
    "A `while` loop repeats as long as a condition is true."
   ]
  },
  {
   "cell_type": "code",
   "execution_count": 42,
   "metadata": {},
   "outputs": [
    {
     "name": "stdout",
     "output_type": "stream",
     "text": [
      "Yes its Available!\n",
      "Yes its Available!\n",
      "Nope Its not Available\n"
     ]
    }
   ],
   "source": [
    "books = [\"Goblet Of Fire\", \"Prisoner Of Azkaban\", \"Sorcerers Stone\", \"Order Of TRhe Phoenix\", \"Deathly Hallows\"]\n",
    "\n",
    "count=4\n",
    "while count>0:\n",
    "    book_title = input(\"Enter a book title (type 'exit' to stop): \")\n",
    "    if book_title in books:\n",
    "        print('Yes its Available!')\n",
    "        count=count-1\n",
    "        continue\n",
    "    else: \n",
    "        print('Nope Its not Available')\n",
    "        break    "
   ]
  },
  {
   "cell_type": "code",
   "execution_count": 43,
   "metadata": {},
   "outputs": [],
   "source": [
    "#List\n",
    "\n",
    "#Time Complexity: o(n) n-->no of data i have\n",
    "\n",
    "#Dictionary\n",
    "\n",
    "#Time complexity : o(1)"
   ]
  },
  {
   "cell_type": "markdown",
   "metadata": {},
   "source": [
    "#### Introduction to Dictionaries\n",
    "\n",
    "A dictionary is a collection of key-value pairs. It is unordered, changeable, and indexed. Each key is unique.\n",
    "A dictionary in Python is a data structure that stores data in key-value pairs. It is similar to a real-world dictionary where you have words (keys) and their definitions (values). Each key in a dictionary is unique, and it maps to a specific value. This allows for efficient data retrieval because you can access the value associated with a key very quickly, just like looking up the definition of a word in a dictionary.\n",
    "\n",
    "#### Key Features:\n",
    "`Key-Value Pairing`: Each item in a dictionary has a unique key and a corresponding value.\n",
    "\n",
    "`Unordered`: Unlike lists or tuples, dictionaries are unordered. This means the items are not stored in a specific sequence.\n",
    "\n",
    "`Mutable`: You can change, add, or remove items after the dictionary has been created.\n",
    "\n",
    "`Fast Access`: Retrieving a value using its key is very fast, almost instantaneous, because dictionaries use a hash table internally.\n",
    "Real-World Analogy\n",
    "\n",
    "#### Dictionary Methdos:\n",
    "\n",
    "`Add Key-Value Pairing`\n",
    "\n",
    "`Remove Key-Value Pairing`\n",
    "\n",
    "`Update Key-Value Pairing`"
   ]
  },
  {
   "cell_type": "markdown",
   "metadata": {},
   "source": [
    "##### Adding Books to library"
   ]
  },
  {
   "cell_type": "code",
   "execution_count": 49,
   "metadata": {},
   "outputs": [],
   "source": [
    "library_dictionary={}\n",
    "\n",
    "#Method 1\n",
    "# library_dictionary[\"Goblet of Fire\"] = True\n",
    "# library_dictionary[\"Prisoner of Azkaban\"] = True\n",
    "# library_dictionary[\"Sorcerer's Stone\"] = True\n",
    "# library_dictionary[\"Order of the Phoenix\"] = True\n",
    "# library_dictionary[\"Deathly Hallows\"] = True\n",
    "\n",
    "\n",
    "\n",
    "#Method 2\n",
    "# for book in books:\n",
    "#     library_dictionary[book] = True\n",
    "\n",
    "\n",
    "# #Method 3\n",
    "# val = True\n",
    "# thisdict = dict.fromkeys(books, val)\n",
    "# print(thisdict)\n"
   ]
  },
  {
   "cell_type": "markdown",
   "metadata": {},
   "source": [
    "#### Accessing and Iterating A Dictionary "
   ]
  },
  {
   "cell_type": "code",
   "execution_count": 54,
   "metadata": {},
   "outputs": [
    {
     "name": "stdout",
     "output_type": "stream",
     "text": [
      "Goblet Of Fire True\n",
      "Prisoner Of Azkaban True\n",
      "Sorcerers Stone True\n",
      "Order Of TRhe Phoenix True\n",
      "Deathly Hallows True\n"
     ]
    }
   ],
   "source": [
    "#Access Values\n",
    "#spec_key=''\n",
    "# keys= list(library_dictionary.keys())\n",
    "# print(keys)\n",
    "\n",
    "# values= list(library_dictionary.values())\n",
    "# print(values)\n",
    "# # #specific=library_dictionary[f'']\n",
    "\n",
    "# # #Iterating\n",
    "# for key,val in library_dictionary.items():\n",
    "#     print (key,val)"
   ]
  },
  {
   "cell_type": "markdown",
   "metadata": {},
   "source": [
    "#### Updating Dictionary ####"
   ]
  },
  {
   "cell_type": "code",
   "execution_count": 57,
   "metadata": {},
   "outputs": [],
   "source": [
    "library_dictionary.update({\"Chamber of Secrets\" : \"True\"})"
   ]
  },
  {
   "cell_type": "code",
   "execution_count": 58,
   "metadata": {},
   "outputs": [
    {
     "data": {
      "text/plain": [
       "{'Goblet Of Fire': 'False',\n",
       " 'Prisoner Of Azkaban': True,\n",
       " 'Sorcerers Stone': True,\n",
       " 'Order Of TRhe Phoenix': True,\n",
       " 'Deathly Hallows': True,\n",
       " 'Chamber of Secrets': 'True'}"
      ]
     },
     "execution_count": 58,
     "metadata": {},
     "output_type": "execute_result"
    }
   ],
   "source": [
    "library_dictionary"
   ]
  },
  {
   "cell_type": "markdown",
   "metadata": {},
   "source": [
    "#### Deleting Dictionary  "
   ]
  },
  {
   "cell_type": "code",
   "execution_count": 59,
   "metadata": {},
   "outputs": [
    {
     "data": {
      "text/plain": [
       "True"
      ]
     },
     "execution_count": 59,
     "metadata": {},
     "output_type": "execute_result"
    }
   ],
   "source": [
    "#method 1\n",
    "del library_dictionary[\"Goblet Of Fire\"]\n",
    "\n",
    "#method 2\n",
    "library_dictionary.pop(\"Deathly Hallows\")"
   ]
  },
  {
   "cell_type": "code",
   "execution_count": 60,
   "metadata": {},
   "outputs": [
    {
     "data": {
      "text/plain": [
       "{'Prisoner Of Azkaban': True,\n",
       " 'Sorcerers Stone': True,\n",
       " 'Order Of TRhe Phoenix': True,\n",
       " 'Chamber of Secrets': 'True'}"
      ]
     },
     "execution_count": 60,
     "metadata": {},
     "output_type": "execute_result"
    }
   ],
   "source": [
    "library_dictionary"
   ]
  },
  {
   "cell_type": "markdown",
   "metadata": {},
   "source": [
    "##### Given an array of integers nums and an integer target, return indices of the two numbers such that they add up to target.\n",
    "##### You may assume that each input would have exactly one solution, and you may not use the same element twice.\n",
    "##### You can return the answer in any order.\n",
    "\n",
    "###### Input: nums = [2,7,11,15], target = 9\n",
    "###### Output: [0,1]\n",
    "###### Explanation: Because nums[0] + nums[1] == 9, we return [0, 1]. ######\n",
    "\n",
    "\n"
   ]
  },
  {
   "cell_type": "code",
   "execution_count": 2,
   "metadata": {},
   "outputs": [
    {
     "name": "stdout",
     "output_type": "stream",
     "text": [
      "[0, 1]\n",
      "time : 0.0010113716125488281\n"
     ]
    }
   ],
   "source": [
    "import time \n",
    "s = time.time()\n",
    "\n",
    "a = [2,7,11,15]\n",
    "b = 9 \n",
    "for i in range(len(a)): #0 to len(a)= 4 \n",
    "    for j in range(i+1, len(a)): #1 to len(a) ==> o(n^2) ==> 2-->7,11,15 // 7 --> 11,15\n",
    "        if (a[i] + a[j]) == b: \n",
    "            c=[i,j] \n",
    "            print(c) \n",
    "            break \n",
    "\n",
    "e = time.time() \n",
    "print(f\"time : {e-s}\")"
   ]
  },
  {
   "cell_type": "code",
   "execution_count": 5,
   "metadata": {},
   "outputs": [
    {
     "name": "stdout",
     "output_type": "stream",
     "text": [
      "[0, 1]\n"
     ]
    },
    {
     "data": {
      "text/plain": [
       "{2: 0, 11: 2, 15: 3}"
      ]
     },
     "execution_count": 5,
     "metadata": {},
     "output_type": "execute_result"
    }
   ],
   "source": [
    "nums = [2,7,11,15]\n",
    "target = 9\n",
    "\n",
    "seen={}\n",
    "        \n",
    "for i, num in enumerate(nums): #o(n) --> 0 to len(nums)\n",
    "    #print(target-num)\n",
    "    if target-num in seen:\n",
    "        print([seen[target-num],i])\n",
    "    elif num not in seen:\n",
    "        seen[num]=i\n",
    "    \n",
    "seen\n"
   ]
  },
  {
   "cell_type": "code",
   "execution_count": null,
   "metadata": {},
   "outputs": [],
   "source": []
  }
 ],
 "metadata": {
  "kernelspec": {
   "display_name": "Python 3",
   "language": "python",
   "name": "python3"
  },
  "language_info": {
   "codemirror_mode": {
    "name": "ipython",
    "version": 3
   },
   "file_extension": ".py",
   "mimetype": "text/x-python",
   "name": "python",
   "nbconvert_exporter": "python",
   "pygments_lexer": "ipython3",
   "version": "3.11.2"
  }
 },
 "nbformat": 4,
 "nbformat_minor": 2
}
