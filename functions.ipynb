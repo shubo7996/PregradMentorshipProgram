{
 "cells": [
  {
   "cell_type": "markdown",
   "metadata": {},
   "source": [
    "### Introduction to `Functions`\n",
    "\n",
    "#### `Concept`:\n",
    "#### Functions are reusable blocks of code that perform a specific task. They help in organizing code, making it more readable, and reducing redundancy."
   ]
  },
  {
   "cell_type": "markdown",
   "metadata": {},
   "source": [
    "#### `Scenario`\n",
    "\n",
    "#### Imagine you're working in a bakery. Every time a customer places an order, you follow the same steps: take the order, process payment, and pack the goods. Instead of repeating these steps each time, you can create a function to handle the process"
   ]
  },
  {
   "cell_type": "code",
   "execution_count": 29,
   "metadata": {},
   "outputs": [
    {
     "name": "stdout",
     "output_type": "stream",
     "text": [
      "passing the butter to rick from top corner of the table!\n"
     ]
    }
   ],
   "source": [
    "def pass_butter(location):\n",
    "    print(f'passing the butter to rick from {location}!')\n",
    "\n",
    "pass_butter(location='top corner of the table')"
   ]
  },
  {
   "cell_type": "code",
   "execution_count": 27,
   "metadata": {},
   "outputs": [
    {
     "name": "stdout",
     "output_type": "stream",
     "text": [
      "Taking order for: cake\n",
      "Processing payment\n",
      "Packing goods\n",
      "Order for cake completed\n",
      "Taking order for: cookies\n",
      "Processing payment\n",
      "Packing goods\n",
      "Order for cookies completed\n"
     ]
    }
   ],
   "source": [
    "#Function Definition\n",
    "def process_order(order):\n",
    "    print(f\"Taking order for: {order}\")\n",
    "    print(\"Processing payment\")\n",
    "    print(\"Packing goods\")\n",
    "    print(f\"Order for {order} completed\")\n",
    "\n",
    "# Using the function\n",
    "process_order(\"cake\")\n",
    "process_order(\"cookies\")"
   ]
  },
  {
   "cell_type": "markdown",
   "metadata": {},
   "source": [
    "### Function Definition and Calling\n",
    "#### `Concept`:\n",
    "\n",
    "##### Defining a Function: Use the `def` keyword followed by the function `name` and `parentheses`.\n",
    "#### Calling a Function: Use the function `name` followed by `parentheses`"
   ]
  },
  {
   "cell_type": "markdown",
   "metadata": {},
   "source": [
    "#### `Scenario`:\n",
    "#### You want to automate the greeting process at your bakery, greeting each customer by their name."
   ]
  },
  {
   "cell_type": "code",
   "execution_count": 30,
   "metadata": {},
   "outputs": [
    {
     "name": "stdout",
     "output_type": "stream",
     "text": [
      "Hello, Alice! Welcome to our bakery.\n",
      "Hello, Bob! Welcome to our bakery.\n"
     ]
    }
   ],
   "source": [
    "def greet_customer(name):\n",
    "    print(f\"Hello, {name}! Welcome to our bakery.\")\n",
    "\n",
    "# Calling the function\n",
    "greet_customer(\"Alice\")\n",
    "greet_customer(\"Bob\")"
   ]
  },
  {
   "cell_type": "markdown",
   "metadata": {},
   "source": [
    "### Function Parameters and Arguments\n",
    "\n",
    "#### `Concept`:\n",
    "##### Functions can take `parameters` (inputs) to customize their behavior.\n",
    "\n",
    "#### `Scenario`:\n",
    "#### You want to create a function that calculates the total price of an order, considering the quantity and price per item."
   ]
  },
  {
   "cell_type": "code",
   "execution_count": 35,
   "metadata": {},
   "outputs": [
    {
     "name": "stdout",
     "output_type": "stream",
     "text": [
      "The total price is: $12.5\n",
      "The total price is: $5.0\n"
     ]
    }
   ],
   "source": [
    "#Function definition\n",
    "def calculate_total_price(quantity, price_per_item):\n",
    "    total = quantity * price_per_item\n",
    "    return total\n",
    "\n",
    "# Calling the function and storing the result\n",
    "total = calculate_total_price(5, 2.5)\n",
    "print(f\"The total price is: ${total}\")\n",
    "total1= calculate_total_price(2,2.5)\n",
    "print(f\"The total price is: ${total1}\")"
   ]
  },
  {
   "cell_type": "code",
   "execution_count": 32,
   "metadata": {},
   "outputs": [
    {
     "data": {
      "text/plain": [
       "4"
      ]
     },
     "execution_count": 32,
     "metadata": {},
     "output_type": "execute_result"
    }
   ],
   "source": [
    "def add(a,b):\n",
    "    return a+b\n",
    "\n",
    "def subtract(a,b):\n",
    "    return a-b\n",
    "\n",
    "add(5,6)\n",
    "subtract(7,3)"
   ]
  },
  {
   "cell_type": "markdown",
   "metadata": {},
   "source": [
    "### Default Parameters\n",
    "\n",
    "#### `Concept`:\n",
    "#### Functions can have default parameter values, which are used if no argument is provided.\n",
    "\n",
    "#### `Scenario`:\n",
    "#### You want to create a function that greets customers, with a default greeting message."
   ]
  },
  {
   "cell_type": "code",
   "execution_count": 37,
   "metadata": {},
   "outputs": [
    {
     "name": "stdout",
     "output_type": "stream",
     "text": [
      "Hello, Alice! Welcome to our bakery!\n",
      "Hello, Bob! Hope you have a great day!\n"
     ]
    }
   ],
   "source": [
    "def greet_customer(name, message=\"Welcome to our bakery!\"):\n",
    "    print(f\"Hello, {name}! {message}\")\n",
    "\n",
    "# Calling the function\n",
    "greet_customer(name=\"Alice\")\n",
    "greet_customer(name=\"Bob\", message=\"Hope you have a great day!\")\n"
   ]
  },
  {
   "cell_type": "markdown",
   "metadata": {},
   "source": [
    "### Keyword Arguments\n",
    "\n",
    "#### `Concept`:\n",
    "#### When calling functions, you can specify arguments using the parameter names.\n",
    "\n",
    "`Scenario`:\n",
    "#### You want to specify the order of items without worrying about their position."
   ]
  },
  {
   "cell_type": "code",
   "execution_count": 51,
   "metadata": {},
   "outputs": [
    {
     "name": "stdout",
     "output_type": "stream",
     "text": [
      "{'item': 'cake', 'quantity': 2, 'price_per_item': 10}\n",
      "Order placed: 2 cake(s) for $20\n"
     ]
    }
   ],
   "source": [
    "def place_order(item, quantity, price_per_item):\n",
    "    total = quantity * price_per_item\n",
    "    print(f\"Order placed: {quantity} {item}(s) for ${total}\")\n",
    "\n",
    "# Using keyword arguments\n",
    "place_order(item=\"cake\", quantity=2, price_per_item=10)\n",
    "#place_order(price_per_item=1.5, item=\"cookie\",quantity=5)"
   ]
  },
  {
   "cell_type": "markdown",
   "metadata": {},
   "source": [
    "### Variable-Length Arguments\n",
    "\n",
    "#### `Concept`:\n",
    "#### Functions can accept a variable number of arguments using `*args` for positional arguments and `**kwargs` for keyword arguments.\n",
    "\n",
    "#### `Scenario`:\n",
    "#### You want to create a function that can take multiple items and their quantities."
   ]
  },
  {
   "cell_type": "code",
   "execution_count": 57,
   "metadata": {},
   "outputs": [
    {
     "name": "stdout",
     "output_type": "stream",
     "text": [
      "a: ['abracadabra', 'atrocious']\n",
      "b: ['bonkers', 'beautiful']\n",
      "dict_keys(['a', 'b'])\n"
     ]
    }
   ],
   "source": [
    "# def place_order(*items):\n",
    "#     #print(f\"Order placed for the following items: {items}\")\n",
    "#     for item in items:\n",
    "#         print(item)\n",
    "\n",
    "# # Calling the function\n",
    "# list=[\"cake\", \"cookies\", \"bread\"]\n",
    "# place_order(\"cake\", \"cookies\", \"bread\")\n",
    "\n",
    "#Ict={'a':['abracadabra','atrocious'],'b':['bonkers','beautiful']}\n",
    "\n",
    "\n",
    "# def order_details(**details):\n",
    "#     print(f\"Order details:: {details}\")\n",
    "#     for key, value in details.items():\n",
    "#         print(f\"{key}: {value}\")\n",
    "\n",
    "# # Calling the function\n",
    "# order_details(item=\"cake\", quantity=2, price=20)\n",
    "\n",
    "\n",
    "def process_dict(**randomdict):\n",
    "    for key, value in randomdict.items():\n",
    "        print(f\"{key}: {value}\")\n",
    "\n",
    "\n",
    "myDict={'a':['abracadabra','atrocious'],'b':['bonkers','beautiful']}\n",
    "process_dict(a=['abracadabra','atrocious'],b=['bonkers','beautiful'])\n",
    "\n",
    "print(myDict.keys())\n",
    "\n",
    "\n",
    "#C\n",
    "\n",
    "#*var-->Pointer\n",
    "\n",
    "#python\n",
    "\n",
    "#*var--> pass a list of names\n",
    "\n",
    "\n",
    "#Python, C++, java --> Object Oriented Languagues(High-level)\n",
    "#C --> low-level language.\n",
    "#Haskell, Mathematica --> Functional Programing\n",
    "\n"
   ]
  },
  {
   "cell_type": "markdown",
   "metadata": {},
   "source": [
    "### Higher-Order Functions\n",
    "#### `Concept`:\n",
    "Functions that take other functions as arguments or return them.\n",
    "\n",
    "#### `Scenario`:\n",
    "You want to create a function that applies a discount to a total price using a discount function."
   ]
  },
  {
   "cell_type": "code",
   "execution_count": 54,
   "metadata": {},
   "outputs": [
    {
     "name": "stdout",
     "output_type": "stream",
     "text": [
      "90.0\n",
      "80.0\n"
     ]
    }
   ],
   "source": [
    "def apply_discount(total, discount_func):\n",
    "    return discount_func(total)\n",
    "\n",
    "# Discount functions\n",
    "def ten_percent_discount(total):\n",
    "    return total * 0.9\n",
    "\n",
    "def twenty_percent_discount(total):\n",
    "    return total * 0.8\n",
    "\n",
    "# Using the higher-order function\n",
    "print(apply_discount(100, ten_percent_discount))\n",
    "print(apply_discount(100, twenty_percent_discount))\n"
   ]
  },
  {
   "cell_type": "markdown",
   "metadata": {},
   "source": [
    "### Lambda Functions\n",
    "#### `Concept`:\n",
    "Lambda functions are small anonymous functions defined using the lambda keyword.\n",
    "\n",
    "#### `Scenario`:\n",
    "You want a quick function to calculate the square of a number without defining a full function."
   ]
  },
  {
   "cell_type": "code",
   "execution_count": 1,
   "metadata": {},
   "outputs": [
    {
     "name": "stdout",
     "output_type": "stream",
     "text": [
      "[2, 4, 6]\n"
     ]
    }
   ],
   "source": [
    "\n",
    "# #Example 1: Doubling Numbers\n",
    "# res=lambda x: x * x\n",
    "    \n",
    "# print(res(4))\n",
    "# print(res(7))\n",
    "\n",
    "\n",
    "# #Example 2: Sorting a List of Tuples\n",
    "# points = [(1, 2), (3, 1), (0, 4)]\n",
    "# sorted_points = sorted(points, key=lambda p: p[1])\n",
    "# print(sorted_points) \n",
    "\n",
    "# #Example 3: Filtering Even Numbers\n",
    "numbers = [1, 2, 3, 4, 5, 6]\n",
    "even_numbers = list(filter(lambda n: n % 2 == 0, numbers))\n",
    "print(even_numbers)  #---> #[2,4,6]\n"
   ]
  },
  {
   "cell_type": "markdown",
   "metadata": {},
   "source": [
    "### Understanding Scope\n",
    "#### `Concept`:\n",
    "#### `Scope` determines the visibility of variables. Variables defined inside a function are local, while those outside are global.\n",
    "\n",
    "#### `Scenario`:\n",
    "#### You want to understand how variables inside and outside a function interact."
   ]
  },
  {
   "cell_type": "code",
   "execution_count": 80,
   "metadata": {},
   "outputs": [
    {
     "name": "stdout",
     "output_type": "stream",
     "text": [
      "Processing order for: cake\n",
      "Processing order for: cookies\n",
      "Processing order for: biscuits\n",
      "Total orders processed: 3\n"
     ]
    }
   ],
   "source": [
    "# Global variable\n",
    "total_orders = 0\n",
    "\n",
    "def process_order(order):\n",
    "    global total_orders\n",
    "    total_orders += 1\n",
    "    print(f\"Processing order for: {order}\")\n",
    "\n",
    "# Calling the function\n",
    "process_order(\"cake\")\n",
    "process_order(\"cookies\")\n",
    "process_order(\"biscuits\")\n",
    "print(f\"Total orders processed: {total_orders}\")\n"
   ]
  },
  {
   "cell_type": "code",
   "execution_count": 81,
   "metadata": {},
   "outputs": [],
   "source": [
    "#Local scope\n",
    "def myFunc(var=5):\n",
    "    var1=0\n",
    "    if var%2==0:\n",
    "        var1+=1\n",
    "\n",
    "myFunc()"
   ]
  },
  {
   "cell_type": "code",
   "execution_count": 83,
   "metadata": {},
   "outputs": [
    {
     "name": "stdout",
     "output_type": "stream",
     "text": [
      "hello how are you\n",
      "sir how are you\n"
     ]
    }
   ],
   "source": [
    "var=['hello','sir']\n",
    "\n",
    "for x in var:\n",
    "    print(f'{x} how are you')"
   ]
  },
  {
   "cell_type": "markdown",
   "metadata": {},
   "source": []
  }
 ],
 "metadata": {
  "kernelspec": {
   "display_name": "Python 3",
   "language": "python",
   "name": "python3"
  },
  "language_info": {
   "codemirror_mode": {
    "name": "ipython",
    "version": 3
   },
   "file_extension": ".py",
   "mimetype": "text/x-python",
   "name": "python",
   "nbconvert_exporter": "python",
   "pygments_lexer": "ipython3",
   "version": "3.11.2"
  }
 },
 "nbformat": 4,
 "nbformat_minor": 2
}
