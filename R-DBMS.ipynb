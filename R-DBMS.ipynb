{
 "cells": [
  {
   "cell_type": "markdown",
   "metadata": {},
   "source": [
    "`RDBMS` (Relational Database Management System)"
   ]
  },
  {
   "cell_type": "markdown",
   "metadata": {},
   "source": [
    "    Relational Database Management Systems (RDBMS) organize data into tables, which consist of rows and columns. Tables in an RDBMS are related to each other through keys. Let's create an example with two relational tables, `customers` and `orders`, and explain the key concepts in detail.\n",
    "\n",
    "### Example Tables\n",
    "\n",
    "#### Table 1: `customers`\n",
    "This table stores information about customers.\n",
    "\n",
    "| **customerNumber** | **customerName** | **contactLastName** | **contactFirstName** | **phone**   | **city**   | **country** |\n",
    "|--------------------|------------------|---------------------|----------------------|-------------|------------|-------------|\n",
    "| 101                | ABC Corp         | Smith               | John                 | 555-1234    | New York   | USA         |\n",
    "| 102                | XYZ Inc          | Doe                 | Jane                 | 555-5678    | Los Angeles| USA         |\n",
    "| 103                | Acme Ltd         | Johnson             | Peter                | 555-9012    | Chicago    | USA         |\n",
    "\n",
    "#### Table 2: `orders`\n",
    "This table stores information about customer orders.\n",
    "\n",
    "| **orderNumber** | **orderDate** | **customerNumber** | **status**  |\n",
    "|-----------------|---------------|--------------------|-------------|\n",
    "| 2001            | 2024-08-01    | 101                | Shipped     |\n",
    "| 2002            | 2024-08-02    | 102                | Processing  |\n",
    "| 2003            | 2024-08-03    | 103                | Shipped     |\n",
    "| 2004            | 2024-08-04    | 101                | Pending     |\n",
    "\n",
    "### Key Concepts Explained\n",
    "\n",
    "#### 1. **Tables and Columns**\n",
    "   - **Tables**: In an RDBMS, data is stored in tables. Each table represents an entity (e.g., customers, orders) and is made up of rows and columns.\n",
    "   - **Columns**: Columns in a table define the attributes of the entity. For example, the `customers` table has columns like `customerNumber`, `customerName`, and `city`, representing different attributes of a customer.\n",
    "\n",
    "#### 2. **Rows**\n",
    "   - **Rows**: A row (also known as a record) in a table represents a single instance of the entity. For example, each row in the `customers` table represents a single customer. In the `orders` table, each row represents a single order.\n",
    "\n",
    "#### 3. **Primary Key**\n",
    "   - **Primary Key**: A primary key is a unique identifier for each row in a table. In the `customers` table, the `customerNumber` is the primary key. This means that each customer has a unique `customerNumber`, and no two customers can have the same `customerNumber`.\n",
    "   - **Uniqueness and Not Null**: The primary key ensures that each value is unique and cannot be NULL. This ensures that every row is uniquely identifiable.\n",
    "\n",
    "#### 4. **Foreign Key**\n",
    "   - **Foreign Key**: A foreign key is a column or set of columns in one table that refers to the primary key in another table. In the `orders` table, the `customerNumber` column is a foreign key that links each order to a customer in the `customers` table.\n",
    "   - **Referential Integrity**: The foreign key ensures that the value in the `customerNumber` column of the `orders` table must match a value in the `customerNumber` column of the `customers` table. This enforces a relationship between the two tables.\n",
    "\n",
    "#### 5. **Relationships**\n",
    "   - **One-to-Many Relationship**: The relationship between `customers` and `orders` is an example of a one-to-many relationship. Each customer can have multiple orders, but each order is linked to only one customer. This is achieved through the foreign key `customerNumber` in the `orders` table.\n",
    "\n",
    "#### 6. **Data Integrity**\n",
    "   - **Data Integrity**: Data integrity refers to the accuracy and consistency of data in the database. Primary keys and foreign keys help enforce data integrity by ensuring that each record is unique (primary key) and that relationships between tables are valid (foreign key).\n",
    "\n",
    "#### 7. **Normalization**\n",
    "   - **Normalization**: Normalization is the process of organizing data to reduce redundancy and improve data integrity. In this example, the `customers` and `orders` tables are normalized, with customer data stored separately from order data. This avoids duplication of customer information across multiple orders.\n",
    "\n",
    "### SQL to Create the Tables\n",
    "\n",
    "Here's how you would create these tables in SQL:\n",
    "\n",
    "#### `customers` Table\n",
    "\n",
    "```sql\n",
    "CREATE TABLE customers (\n",
    "    customerNumber int PRIMARY KEY,\n",
    "    customerName varchar(50) NOT NULL,\n",
    "    contactLastName varchar(50) NOT NULL,\n",
    "    contactFirstName varchar(50) NOT NULL,\n",
    "    phone varchar(15) NOT NULL,\n",
    "    city varchar(50) NOT NULL,\n",
    "    country varchar(50) NOT NULL\n",
    ");\n",
    "```\n",
    "\n",
    "#### `orders` Table\n",
    "\n",
    "```sql\n",
    "CREATE TABLE orders (\n",
    "    orderNumber int PRIMARY KEY,\n",
    "    orderDate date NOT NULL,\n",
    "    customerNumber int,\n",
    "    status varchar(20) NOT NULL,\n",
    "    FOREIGN KEY (customerNumber) REFERENCES customers(customerNumber)\n",
    ");\n",
    "```\n",
    "\n",
    "### How These Tables Work Together\n",
    "\n",
    "- **Inserting Data**: When inserting a new order, the `customerNumber` in the `orders` table must match an existing `customerNumber` in the `customers` table. This ensures that every order is associated with a valid customer.\n",
    "\n",
    "- **Querying Data**: You can join these tables in a query to get a list of customers and their orders. For example:\n",
    "\n",
    "```sql\n",
    "SELECT customers.customerName, orders.orderNumber, orders.orderDate, orders.status\n",
    "FROM customers\n",
    "JOIN orders ON customers.customerNumber = orders.customerNumber;\n",
    "```\n",
    "\n",
    "This query returns the customer name along with the corresponding order details.\n",
    "\n",
    "### Summary\n",
    "\n",
    "In an RDBMS, tables store data in rows and columns, with primary keys ensuring each row is unique. Foreign keys establish relationships between tables, maintaining referential integrity. The structure of relational tables and the relationships between them help organize data efficiently, avoiding redundancy and ensuring data consistency."
   ]
  },
  {
   "cell_type": "code",
   "execution_count": null,
   "metadata": {
    "vscode": {
     "languageId": "sql"
    }
   },
   "outputs": [],
   "source": [
    "-- Active: 1723560744721@@127.0.0.1@3306@sakila\n",
    "Create DATABASE myDB;"
   ]
  },
  {
   "cell_type": "code",
   "execution_count": null,
   "metadata": {
    "vscode": {
     "languageId": "sql"
    }
   },
   "outputs": [],
   "source": [
    "\n",
    "Use myDB;"
   ]
  },
  {
   "cell_type": "code",
   "execution_count": null,
   "metadata": {
    "vscode": {
     "languageId": "sql"
    }
   },
   "outputs": [],
   "source": [
    "-- DROP DATABASE myDB;"
   ]
  },
  {
   "cell_type": "code",
   "execution_count": null,
   "metadata": {
    "vscode": {
     "languageId": "sql"
    }
   },
   "outputs": [],
   "source": [
    "-- Active: 1723560744721@@127.0.0.1@3306@mydb\n",
    "CREATE TABLE customers (\n",
    "    customerNumber int AUTO_INCREMENT PRIMARY KEY,\n",
    "    customerName varchar(50) NOT NULL,\n",
    "    contactLastName varchar(50) NOT NULL,\n",
    "    contactFirstName varchar(50) NOT NULL,\n",
    "    phone varchar(15) NOT NULL,\n",
    "    city varchar(50) NOT NULL,\n",
    "    country varchar(50) NOT NULL\n",
    ");\n",
    "\n",
    "\n",
    "CREATE TABLE orders (\n",
    "    orderNumber int PRIMARY KEY,\n",
    "    orderDate date NOT NULL,\n",
    "    customerNumber int,\n",
    "    status varchar(20) NOT NULL,\n",
    "    FOREIGN KEY (customerNumber) REFERENCES customers(customerNumber)\n",
    ");"
   ]
  },
  {
   "cell_type": "code",
   "execution_count": null,
   "metadata": {
    "vscode": {
     "languageId": "sql"
    }
   },
   "outputs": [],
   "source": [
    "INSERT INTO customers (customerNumber, customerName, contactLastName, contactFirstName, phone, city, country)\n",
    "VALUES (101, 'ABC Corp', 'Smith', 'John', '555-1234', 'New York', 'USA');\n",
    "\n",
    "INSERT INTO customers (customerNumber, customerName, contactLastName, contactFirstName, phone, city, country)\n",
    "VALUES (102, 'XYZ Inc', 'Doe', 'Jane', '555-5678', 'Los Angeles', 'USA');\n",
    "\n",
    "INSERT INTO customers (customerNumber, customerName, contactLastName, contactFirstName, phone, city, country)\n",
    "VALUES (103, 'Acme Ltd', 'Johnson', 'Peter', '555-9012', 'Chicago', 'USA');\n"
   ]
  },
  {
   "cell_type": "code",
   "execution_count": null,
   "metadata": {
    "vscode": {
     "languageId": "sql"
    }
   },
   "outputs": [],
   "source": [
    "INSERT INTO orders (orderNumber, orderDate, customerNumber, status)\n",
    "VALUES\n",
    "    (2001, '2024-08-01', 101, 'Shipped'),\n",
    "    (2002, '2024-08-02', 102, 'Processing'),\n",
    "    (2003, '2024-08-03', 103, 'Shipped'),\n",
    "    (2004, '2024-08-04', 101, 'Pending');\n"
   ]
  },
  {
   "cell_type": "code",
   "execution_count": null,
   "metadata": {
    "vscode": {
     "languageId": "sql"
    }
   },
   "outputs": [],
   "source": [
    "select * from customers where `contactFirstName`='Jane';"
   ]
  },
  {
   "cell_type": "markdown",
   "metadata": {},
   "source": [
    "You can use the `ALTER TABLE` and `DROP` statements to modify the structure of your tables or remove specific columns or constraints. Here's how you can use them with the `customers` and `orders` tables:\n",
    "\n",
    "### Using `ALTER TABLE`\n",
    "\n",
    "#### 1. **Adding a New Column**\n",
    "   Suppose you want to add a new column called `email` to the `customers` table to store customer email addresses.\n",
    "\n",
    "   ```sql\n",
    "   ALTER TABLE customers\n",
    "   ADD email varchar(100) DEFAULT NULL;\n",
    "   ```\n",
    "\n",
    "   - **Explanation**: This statement adds a new column `email` of type `varchar(100)` to the `customers` table. The `DEFAULT NULL` ensures that if no value is provided for this column, it will be set to `NULL`.\n",
    "\n",
    "#### 2. **Modifying an Existing Column**\n",
    "   If you want to change the data type of the `phone` column from `varchar(15)` to `varchar(20)` in the `customers` table:\n",
    "\n",
    "   ```sql\n",
    "   ALTER TABLE customers\n",
    "   MODIFY phone varchar(20) NOT NULL;\n",
    "   ```\n",
    "\n",
    "   - **Explanation**: This statement changes the data type of the `phone` column to `varchar(20)` and retains the `NOT NULL` constraint.\n",
    "\n",
    "#### 3. **Renaming a Column**\n",
    "   Suppose you want to rename the `status` column in the `orders` table to `orderStatus`:\n",
    "\n",
    "   ```sql\n",
    "   ALTER TABLE orders\n",
    "   CHANGE status orderStatus varchar(20) NOT NULL;\n",
    "   ```\n",
    "\n",
    "   - **Explanation**: This statement renames the `status` column to `orderStatus` while keeping its data type and `NOT NULL` constraint.\n",
    "\n",
    "#### 4. **Dropping a Column**\n",
    "   If you no longer need the `addressLine2` column in the `customers` table:\n",
    "\n",
    "   ```sql\n",
    "   ALTER TABLE customers\n",
    "   DROP COLUMN addressLine2;\n",
    "   ```\n",
    "\n",
    "   - **Explanation**: This statement removes the `addressLine2` column from the `customers` table.\n",
    "\n",
    "#### 5. **Adding a Foreign Key Constraint**\n",
    "   If the `orders` table was initially created without a foreign key constraint on `customerNumber`, you can add it later:\n",
    "\n",
    "   ```sql\n",
    "   ALTER TABLE orders\n",
    "   ADD CONSTRAINT fk_customer\n",
    "   FOREIGN KEY (customerNumber) REFERENCES customers(customerNumber);\n",
    "   ```\n",
    "\n",
    "   - **Explanation**: This statement adds a foreign key constraint to the `orders` table, ensuring that the `customerNumber` in the `orders` table corresponds to a valid `customerNumber` in the `customers` table.\n",
    "\n",
    "### Using `DROP`\n",
    "\n",
    "#### 1. **Dropping a Column**\n",
    "   If you decide that the `postalCode` column in the `customers` table is no longer necessary:\n",
    "\n",
    "   ```sql\n",
    "   ALTER TABLE customers\n",
    "   DROP COLUMN postalCode;\n",
    "   ```\n",
    "\n",
    "   - **Explanation**: This command removes the `postalCode` column from the `customers` table.\n",
    "\n",
    "#### 2. **Dropping a Foreign Key Constraint**\n",
    "   If you need to remove the foreign key constraint linking `customerNumber` in the `orders` table to `customers`:\n",
    "\n",
    "   ```sql\n",
    "   ALTER TABLE orders\n",
    "   DROP FOREIGN KEY fk_customer;\n",
    "   ```\n",
    "\n",
    "   - **Explanation**: This statement drops the foreign key constraint named `fk_customer` from the `orders` table.\n",
    "\n",
    "#### 3. **Dropping an Entire Table**\n",
    "   If you want to completely remove the `orders` table from the database:\n",
    "\n",
    "   ```sql\n",
    "   DROP TABLE orders;\n",
    "   ```\n",
    "\n",
    "   - **Explanation**: This statement permanently deletes the `orders` table and all the data it contains from the database. This action is irreversible, so it should be used with caution.\n",
    "\n",
    "### Summary\n",
    "\n",
    "- **`ALTER TABLE`**: Used to make changes to an existing table, such as adding, modifying, or dropping columns and constraints.\n",
    "- **`DROP`**: Used to remove columns, constraints, or even entire tables from the database.\n",
    "\n",
    "These commands provide powerful ways to manage and update the structure of your database tables as your requirements evolve."
   ]
  },
  {
   "cell_type": "code",
   "execution_count": null,
   "metadata": {
    "vscode": {
     "languageId": "sql"
    }
   },
   "outputs": [],
   "source": [
    " ALTER TABLE customers\n",
    "   ADD email varchar(100) DEFAULT NULL;\n"
   ]
  },
  {
   "cell_type": "code",
   "execution_count": null,
   "metadata": {
    "vscode": {
     "languageId": "sql"
    }
   },
   "outputs": [],
   "source": [
    "SELECT * FROM customers;"
   ]
  },
  {
   "cell_type": "code",
   "execution_count": null,
   "metadata": {
    "vscode": {
     "languageId": "sql"
    }
   },
   "outputs": [],
   "source": [
    "ALTER TABLE customers\n",
    "   MODIFY phone varchar(20) NOT NULL;"
   ]
  },
  {
   "cell_type": "code",
   "execution_count": null,
   "metadata": {
    "vscode": {
     "languageId": "sql"
    }
   },
   "outputs": [],
   "source": [
    " ALTER TABLE orders\n",
    "   CHANGE status orderStatus varchar(20) NOT NULL;"
   ]
  },
  {
   "cell_type": "code",
   "execution_count": null,
   "metadata": {
    "vscode": {
     "languageId": "sql"
    }
   },
   "outputs": [],
   "source": [
    "ALTER TABLE customers\n",
    "   DROP COLUMN email;"
   ]
  },
  {
   "cell_type": "code",
   "execution_count": null,
   "metadata": {
    "vscode": {
     "languageId": "sql"
    }
   },
   "outputs": [],
   "source": [
    "ALTER TABLE orders\n",
    "   ADD CONSTRAINT fk_customer\n",
    "   FOREIGN KEY (customerNumber) REFERENCES customers(customerNumber);"
   ]
  },
  {
   "cell_type": "code",
   "execution_count": null,
   "metadata": {
    "vscode": {
     "languageId": "sql"
    }
   },
   "outputs": [],
   "source": [
    "SELECT * from orders;"
   ]
  },
  {
   "cell_type": "code",
   "execution_count": null,
   "metadata": {
    "vscode": {
     "languageId": "sql"
    }
   },
   "outputs": [],
   "source": [
    "Drop Table orders;"
   ]
  },
  {
   "cell_type": "code",
   "execution_count": null,
   "metadata": {
    "vscode": {
     "languageId": "sql"
    }
   },
   "outputs": [],
   "source": [
    "DROP DATABASE myDB;"
   ]
  },
  {
   "cell_type": "markdown",
   "metadata": {},
   "source": []
  }
 ],
 "metadata": {
  "kernelspec": {
   "display_name": ".venv",
   "language": "python",
   "name": "python3"
  },
  "language_info": {
   "codemirror_mode": {
    "name": "ipython",
    "version": 3
   },
   "file_extension": ".py",
   "mimetype": "text/x-python",
   "name": "python",
   "nbconvert_exporter": "python",
   "pygments_lexer": "ipython3",
   "version": "3.11.9"
  }
 },
 "nbformat": 4,
 "nbformat_minor": 2
}
