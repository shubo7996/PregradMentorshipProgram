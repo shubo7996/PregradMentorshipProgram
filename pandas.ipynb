{
 "cells": [
  {
   "cell_type": "markdown",
   "metadata": {},
   "source": [
    "## Introduction to Pandas\n",
    "\n",
    "\n",
    "`Concept`: It helps in data manipulation and analysis.\n",
    "\n",
    "#### Step 1: Installation and Importing"
   ]
  },
  {
   "cell_type": "code",
   "execution_count": 41,
   "metadata": {},
   "outputs": [
    {
     "name": "stdout",
     "output_type": "stream",
     "text": [
      "Requirement already satisfied: pandas in e:\\codes\\.venv\\lib\\site-packages (2.2.2)Note: you may need to restart the kernel to use updated packages.\n",
      "\n",
      "Requirement already satisfied: numpy>=1.23.2 in e:\\codes\\.venv\\lib\\site-packages (from pandas) (2.0.1)\n",
      "Requirement already satisfied: python-dateutil>=2.8.2 in e:\\codes\\.venv\\lib\\site-packages (from pandas) (2.9.0.post0)\n",
      "Requirement already satisfied: pytz>=2020.1 in e:\\codes\\.venv\\lib\\site-packages (from pandas) (2024.1)\n",
      "Requirement already satisfied: tzdata>=2022.7 in e:\\codes\\.venv\\lib\\site-packages (from pandas) (2024.1)\n",
      "Requirement already satisfied: six>=1.5 in e:\\codes\\.venv\\lib\\site-packages (from python-dateutil>=2.8.2->pandas) (1.16.0)\n"
     ]
    }
   ],
   "source": [
    "%pip install pandas"
   ]
  },
  {
   "cell_type": "code",
   "execution_count": 1,
   "metadata": {},
   "outputs": [],
   "source": [
    "# Importing the Pandas library\n",
    "import pandas as pd #naming convention"
   ]
  },
  {
   "cell_type": "code",
   "execution_count": 4,
   "metadata": {},
   "outputs": [
    {
     "name": "stdout",
     "output_type": "stream",
     "text": [
      "   Product  Quantity  Price\n",
      "0   Apples        30    0.5\n",
      "1  Oranges        20    0.8\n",
      "2  Bananas        15    0.3\n"
     ]
    }
   ],
   "source": [
    "# Creating a simple DataFrame to represent sales data\n",
    "data = {\n",
    "    'Product': ['pleAps', 'Oranges', 'Bananas'],\n",
    "    'Quantity': [30, 20, 15],\n",
    "    'Price': [0.50, 0.80, 0.30]\n",
    "}\n",
    "\n",
    "# _list=[0.50, 0.80, 0.30]\n",
    "# df1=pd.DataFrame(_list)\n",
    "\n",
    "# print(df1)\n",
    "#keuys are columns\n",
    "#list are col values \n",
    "\n",
    "df = pd.DataFrame(data)\n",
    "print(df)"
   ]
  },
  {
   "cell_type": "markdown",
   "metadata": {},
   "source": [
    "## Step 2: Reading and Writing Data\n",
    "\n",
    "`Scenario`: Loading and Saving Sales Data\n",
    "\n",
    "`Concept`: Reading from CSV files, writing to CSV files."
   ]
  },
  {
   "cell_type": "code",
   "execution_count": 5,
   "metadata": {},
   "outputs": [
    {
     "name": "stdout",
     "output_type": "stream",
     "text": [
      "          Date     Product  Quantity  Price\n",
      "0   2024-07-13  Pineapples         7   0.97\n",
      "1   2024-07-16  Pineapples        22   1.10\n",
      "2   2024-07-22      Grapes        32   0.81\n",
      "3   2024-07-01  Pineapples        14   0.78\n",
      "4   2024-07-04  Pineapples         8   1.92\n",
      "..         ...         ...       ...    ...\n",
      "95  2024-07-26      Apples        40   1.02\n",
      "96  2024-07-11      Apples        36   0.72\n",
      "97  2024-07-21  Pineapples        31   1.97\n",
      "98  2024-07-12      Grapes        30   1.22\n",
      "99  2024-07-05      Grapes        34   1.25\n",
      "\n",
      "[100 rows x 4 columns]\n"
     ]
    },
    {
     "data": {
      "text/plain": [
       "pandas.core.frame.DataFrame"
      ]
     },
     "execution_count": 5,
     "metadata": {},
     "output_type": "execute_result"
    }
   ],
   "source": [
    "# Reading data from a CSV file\n",
    "sales_df = pd.read_csv('sales_data.csv') #Directory where your file is kept\n",
    "print(sales_df)\n",
    "type(sales_df)\n",
    "\n",
    "# Writing DataFrame to a CSV file\n",
    "\n",
    "df.to_csv('new_sales_data.csv', index=False)"
   ]
  },
  {
   "cell_type": "markdown",
   "metadata": {},
   "source": [
    "## Step 3: Data Inspection\n",
    "\n",
    "`Scenario`: Inspecting the Sales Data for Errors\n",
    "\n",
    "`Concept`: Understanding data using head, tail, info, and describe methods."
   ]
  },
  {
   "cell_type": "code",
   "execution_count": 22,
   "metadata": {},
   "outputs": [
    {
     "name": "stdout",
     "output_type": "stream",
     "text": [
      "         Date     Product  Quantity  Price\n",
      "0  2024-07-13  Pineapples         7   0.97\n",
      "1  2024-07-16  Pineapples        22   1.10\n",
      "2  2024-07-22      Grapes        32   0.81\n",
      "3  2024-07-01  Pineapples        14   0.78\n",
      "4  2024-07-04  Pineapples         8   1.92\n"
     ]
    }
   ],
   "source": [
    "# Display the first few rows of the DataFrame\n",
    "print(sales_df.head())\n",
    "\n",
    "# # # # Display the last few rows of the DataFrame\n",
    "# print(sales_df.tail(15))\n",
    "\n",
    "# # Get a concise summary of the DataFrame\n",
    "#print(sales_df.info())\n",
    "\n",
    "# # # Get descriptive statistics\n",
    "# print(sales_df.describe())\n"
   ]
  },
  {
   "cell_type": "markdown",
   "metadata": {},
   "source": [
    "## Step 4: Data Selection and Filtering\n",
    "`Scenario`: Extracting Specific Sales Information\n",
    "\n",
    "`Concept`: Selecting rows and columns, filtering data based on conditions"
   ]
  },
  {
   "cell_type": "code",
   "execution_count": 18,
   "metadata": {},
   "outputs": [
    {
     "name": "stdout",
     "output_type": "stream",
     "text": [
      "<class 'pandas.core.series.Series'>\n",
      "<class 'pandas.core.frame.DataFrame'>\n"
     ]
    }
   ],
   "source": [
    "#Selecting a single column\n",
    "product_column = sales_df['Product']\n",
    "#print(product_column)\n",
    "print(type(product_column))\n",
    "\n",
    "# #Selecting multiple columns\n",
    "selected_columns = sales_df[['Product', 'Quantity']]\n",
    "print(type(selected_columns))\n",
    "\n",
    "\n",
    "# # # Filtering rows based on a condition\n",
    "filtered_df = sales_df[sales_df['Quantity'] > 20 ] #Give me all the columns and only filtered rows.\n",
    "print(filtered_df)\n",
    "\n"
   ]
  },
  {
   "cell_type": "code",
   "execution_count": 25,
   "metadata": {},
   "outputs": [
    {
     "data": {
      "text/plain": [
       "['Date', 'Product', 'Quantity', 'Price']"
      ]
     },
     "execution_count": 25,
     "metadata": {},
     "output_type": "execute_result"
    }
   ],
   "source": [
    "list(sales_df.columns)"
   ]
  },
  {
   "cell_type": "markdown",
   "metadata": {},
   "source": [
    "## Slicing The Data Frame"
   ]
  },
  {
   "cell_type": "code",
   "execution_count": 23,
   "metadata": {},
   "outputs": [
    {
     "data": {
      "text/html": [
       "<div>\n",
       "<style scoped>\n",
       "    .dataframe tbody tr th:only-of-type {\n",
       "        vertical-align: middle;\n",
       "    }\n",
       "\n",
       "    .dataframe tbody tr th {\n",
       "        vertical-align: top;\n",
       "    }\n",
       "\n",
       "    .dataframe thead th {\n",
       "        text-align: right;\n",
       "    }\n",
       "</style>\n",
       "<table border=\"1\" class=\"dataframe\">\n",
       "  <thead>\n",
       "    <tr style=\"text-align: right;\">\n",
       "      <th></th>\n",
       "      <th>Product</th>\n",
       "      <th>Quantity</th>\n",
       "      <th>Price</th>\n",
       "    </tr>\n",
       "  </thead>\n",
       "  <tbody>\n",
       "    <tr>\n",
       "      <th>5</th>\n",
       "      <td>Pineapples</td>\n",
       "      <td>25</td>\n",
       "      <td>1.61</td>\n",
       "    </tr>\n",
       "    <tr>\n",
       "      <th>6</th>\n",
       "      <td>Apples</td>\n",
       "      <td>16</td>\n",
       "      <td>1.24</td>\n",
       "    </tr>\n",
       "    <tr>\n",
       "      <th>7</th>\n",
       "      <td>Pineapples</td>\n",
       "      <td>42</td>\n",
       "      <td>0.84</td>\n",
       "    </tr>\n",
       "    <tr>\n",
       "      <th>8</th>\n",
       "      <td>Grapes</td>\n",
       "      <td>19</td>\n",
       "      <td>0.88</td>\n",
       "    </tr>\n",
       "    <tr>\n",
       "      <th>9</th>\n",
       "      <td>Bananas</td>\n",
       "      <td>41</td>\n",
       "      <td>0.59</td>\n",
       "    </tr>\n",
       "    <tr>\n",
       "      <th>10</th>\n",
       "      <td>Apples</td>\n",
       "      <td>16</td>\n",
       "      <td>1.15</td>\n",
       "    </tr>\n",
       "    <tr>\n",
       "      <th>11</th>\n",
       "      <td>Oranges</td>\n",
       "      <td>12</td>\n",
       "      <td>0.97</td>\n",
       "    </tr>\n",
       "    <tr>\n",
       "      <th>12</th>\n",
       "      <td>Oranges</td>\n",
       "      <td>39</td>\n",
       "      <td>1.54</td>\n",
       "    </tr>\n",
       "    <tr>\n",
       "      <th>13</th>\n",
       "      <td>Grapes</td>\n",
       "      <td>48</td>\n",
       "      <td>1.07</td>\n",
       "    </tr>\n",
       "    <tr>\n",
       "      <th>14</th>\n",
       "      <td>Apples</td>\n",
       "      <td>30</td>\n",
       "      <td>0.77</td>\n",
       "    </tr>\n",
       "    <tr>\n",
       "      <th>15</th>\n",
       "      <td>Apples</td>\n",
       "      <td>2</td>\n",
       "      <td>0.54</td>\n",
       "    </tr>\n",
       "    <tr>\n",
       "      <th>16</th>\n",
       "      <td>Oranges</td>\n",
       "      <td>32</td>\n",
       "      <td>0.60</td>\n",
       "    </tr>\n",
       "    <tr>\n",
       "      <th>17</th>\n",
       "      <td>Bananas</td>\n",
       "      <td>45</td>\n",
       "      <td>1.52</td>\n",
       "    </tr>\n",
       "    <tr>\n",
       "      <th>18</th>\n",
       "      <td>Pineapples</td>\n",
       "      <td>25</td>\n",
       "      <td>1.18</td>\n",
       "    </tr>\n",
       "    <tr>\n",
       "      <th>19</th>\n",
       "      <td>Bananas</td>\n",
       "      <td>25</td>\n",
       "      <td>1.30</td>\n",
       "    </tr>\n",
       "    <tr>\n",
       "      <th>20</th>\n",
       "      <td>Apples</td>\n",
       "      <td>4</td>\n",
       "      <td>1.85</td>\n",
       "    </tr>\n",
       "    <tr>\n",
       "      <th>21</th>\n",
       "      <td>Grapes</td>\n",
       "      <td>19</td>\n",
       "      <td>1.99</td>\n",
       "    </tr>\n",
       "    <tr>\n",
       "      <th>22</th>\n",
       "      <td>Bananas</td>\n",
       "      <td>48</td>\n",
       "      <td>0.83</td>\n",
       "    </tr>\n",
       "    <tr>\n",
       "      <th>23</th>\n",
       "      <td>Bananas</td>\n",
       "      <td>4</td>\n",
       "      <td>1.49</td>\n",
       "    </tr>\n",
       "    <tr>\n",
       "      <th>24</th>\n",
       "      <td>Apples</td>\n",
       "      <td>43</td>\n",
       "      <td>0.89</td>\n",
       "    </tr>\n",
       "  </tbody>\n",
       "</table>\n",
       "</div>"
      ],
      "text/plain": [
       "       Product  Quantity  Price\n",
       "5   Pineapples        25   1.61\n",
       "6       Apples        16   1.24\n",
       "7   Pineapples        42   0.84\n",
       "8       Grapes        19   0.88\n",
       "9      Bananas        41   0.59\n",
       "10      Apples        16   1.15\n",
       "11     Oranges        12   0.97\n",
       "12     Oranges        39   1.54\n",
       "13      Grapes        48   1.07\n",
       "14      Apples        30   0.77\n",
       "15      Apples         2   0.54\n",
       "16     Oranges        32   0.60\n",
       "17     Bananas        45   1.52\n",
       "18  Pineapples        25   1.18\n",
       "19     Bananas        25   1.30\n",
       "20      Apples         4   1.85\n",
       "21      Grapes        19   1.99\n",
       "22     Bananas        48   0.83\n",
       "23     Bananas         4   1.49\n",
       "24      Apples        43   0.89"
      ]
     },
     "execution_count": 23,
     "metadata": {},
     "output_type": "execute_result"
    }
   ],
   "source": [
    "#100 Rows\n",
    "#4 columns\n",
    "\n",
    "sales_df.iloc[5:25,1:]"
   ]
  },
  {
   "cell_type": "markdown",
   "metadata": {},
   "source": [
    "## Step 5: Data Cleaning\n",
    "`Scenario`: Cleaning Up Inconsistent Sales Data\n",
    "\n",
    "`Concept`: Handling missing values, removing duplicates"
   ]
  },
  {
   "cell_type": "code",
   "execution_count": 59,
   "metadata": {},
   "outputs": [
    {
     "name": "stdout",
     "output_type": "stream",
     "text": [
      "   Product  Quantity  Price\n",
      "0   Apples        30    0.5\n",
      "1  Oranges        20    0.8\n",
      "2  Oranges        20    0.8\n"
     ]
    }
   ],
   "source": [
    "# Creating a simple DataFrame to represent sales data\n",
    "data = {\n",
    "    'Product': ['Apples', 'Oranges', 'Oranges'],\n",
    "    'Quantity': [30, 20, 20],\n",
    "    'Price': [0.50, 0.80, 0.80]\n",
    "}\n",
    "\n",
    "\n",
    "# _list=[0.50, 0.80, 0.30]\n",
    "# df1=pd.DataFrame(_list)\n",
    "\n",
    "# print(df1)\n",
    "#keuys are columns\n",
    "#list are col values \n",
    "\n",
    "df = pd.DataFrame(data)\n",
    "print(df)"
   ]
  },
  {
   "cell_type": "code",
   "execution_count": 61,
   "metadata": {},
   "outputs": [
    {
     "name": "stdout",
     "output_type": "stream",
     "text": [
      "   Product  Quantity  Price\n",
      "0   Apples        30    0.5\n",
      "1  Oranges        20    0.8\n"
     ]
    }
   ],
   "source": [
    "# Checking for missing values\n",
    "# print(df.isnull())\n",
    "\n",
    "# # Dropping rows with missing values\n",
    "# cleaned_df = df.dropna()\n",
    "# print(cleaned_df)\n",
    "\n",
    "# # Filling missing values\n",
    "# filled_df = df.fillna({'Product': 'AnyRandomFruit', 'Quantity': 1 ,'Price': df['Price'].mean()})\n",
    "# print(filled_df)\n",
    "\n",
    "# # Removing duplicate rows\n",
    "unique_df = df.drop_duplicates()\n",
    "print(unique_df)"
   ]
  },
  {
   "cell_type": "markdown",
   "metadata": {},
   "source": [
    "## Step 6: Data Transformation\n",
    "`Scenario`: Adding New Columns to the Sales Data\n",
    "\n",
    "`Concept`: Adding new columns, modifying existing columns, applying functions."
   ]
  },
  {
   "cell_type": "code",
   "execution_count": 70,
   "metadata": {},
   "outputs": [
    {
     "name": "stdout",
     "output_type": "stream",
     "text": [
      "          Date     Product  Quantity   Price  Total Sales  IncreasedPrice  \\\n",
      "0   2024-07-13  Pineapples         7  1.1737         6.79         1.29107   \n",
      "1   2024-07-16  Pineapples        22  1.3310        24.20         1.46410   \n",
      "2   2024-07-22      Grapes        32  0.9801        25.92         1.07811   \n",
      "3   2024-07-01  Pineapples        14  0.9438        10.92         1.03818   \n",
      "4   2024-07-04  Pineapples         8  2.3232        15.36         2.55552   \n",
      "..         ...         ...       ...     ...          ...             ...   \n",
      "95  2024-07-26      Apples        40  1.2342        40.80         1.35762   \n",
      "96  2024-07-11      Apples        36  0.8712        25.92         0.95832   \n",
      "97  2024-07-21  Pineapples        31  2.3837        61.07         2.62207   \n",
      "98  2024-07-12      Grapes        30  1.4762        36.60         1.62382   \n",
      "99  2024-07-05      Grapes        34  1.5125        42.50         1.66375   \n",
      "\n",
      "    Discounted Price  \n",
      "0            1.05633  \n",
      "1            1.19790  \n",
      "2            0.88209  \n",
      "3            0.84942  \n",
      "4            2.09088  \n",
      "..               ...  \n",
      "95           1.11078  \n",
      "96           0.78408  \n",
      "97           2.14533  \n",
      "98           1.32858  \n",
      "99           1.36125  \n",
      "\n",
      "[100 rows x 7 columns]\n"
     ]
    }
   ],
   "source": [
    "#Adding a new column for total sales\n",
    "sales_df['Total Sales'] = sales_df['Quantity'] * sales_df['Price']\n",
    "print(sales_df)\n",
    "\n",
    "#Alternative Methdod\n",
    "for x,y in zip(sales_df['Quantity'],sales_df['Price']):\n",
    "    print(x*y)\n",
    "\n",
    "\n",
    "# Modifying an existing column (Broadcasting)\n",
    "sales_df['IncreasedPrice'] = sales_df['Price'] * 1.10  # Applying a 10% price increase\n",
    "print(sales_df)\n",
    "\n",
    "for x in sales_df['Price']:\n",
    "    print(x*1.10)\n",
    "\n",
    "\n",
    "# # Applying a function to a column\n",
    "sales_df['Discounted Price'] = sales_df['Price'].apply(lambda x: x * 0.9 if x > 0.5 else x)\n",
    "print(sales_df)\n"
   ]
  },
  {
   "cell_type": "code",
   "execution_count": 73,
   "metadata": {},
   "outputs": [],
   "source": [
    "def makeLowerCase(_str):\n",
    "    return _str.lower()\n",
    "\n",
    "\n",
    "sales_df['NewProductColumn'] = sales_df['Product'].apply(lambda x: makeLowerCase(x))\n",
    "\n",
    "#if and else---> Ternary Operation\n",
    "    \n",
    "#somecondition? 'yes':'no'\n",
    "\n",
    "#beverage= age >= 21 ? \"Beer\" : \"Juice\";"
   ]
  },
  {
   "cell_type": "code",
   "execution_count": 74,
   "metadata": {},
   "outputs": [
    {
     "data": {
      "text/html": [
       "<div>\n",
       "<style scoped>\n",
       "    .dataframe tbody tr th:only-of-type {\n",
       "        vertical-align: middle;\n",
       "    }\n",
       "\n",
       "    .dataframe tbody tr th {\n",
       "        vertical-align: top;\n",
       "    }\n",
       "\n",
       "    .dataframe thead th {\n",
       "        text-align: right;\n",
       "    }\n",
       "</style>\n",
       "<table border=\"1\" class=\"dataframe\">\n",
       "  <thead>\n",
       "    <tr style=\"text-align: right;\">\n",
       "      <th></th>\n",
       "      <th>Date</th>\n",
       "      <th>Product</th>\n",
       "      <th>Quantity</th>\n",
       "      <th>Price</th>\n",
       "      <th>Total Sales</th>\n",
       "      <th>IncreasedPrice</th>\n",
       "      <th>Discounted Price</th>\n",
       "      <th>NewProductColumn</th>\n",
       "    </tr>\n",
       "  </thead>\n",
       "  <tbody>\n",
       "    <tr>\n",
       "      <th>0</th>\n",
       "      <td>2024-07-13</td>\n",
       "      <td>Pineapples</td>\n",
       "      <td>7</td>\n",
       "      <td>1.1737</td>\n",
       "      <td>6.79</td>\n",
       "      <td>1.29107</td>\n",
       "      <td>1.05633</td>\n",
       "      <td>pineapples</td>\n",
       "    </tr>\n",
       "    <tr>\n",
       "      <th>1</th>\n",
       "      <td>2024-07-16</td>\n",
       "      <td>Pineapples</td>\n",
       "      <td>22</td>\n",
       "      <td>1.3310</td>\n",
       "      <td>24.20</td>\n",
       "      <td>1.46410</td>\n",
       "      <td>1.19790</td>\n",
       "      <td>pineapples</td>\n",
       "    </tr>\n",
       "    <tr>\n",
       "      <th>2</th>\n",
       "      <td>2024-07-22</td>\n",
       "      <td>Grapes</td>\n",
       "      <td>32</td>\n",
       "      <td>0.9801</td>\n",
       "      <td>25.92</td>\n",
       "      <td>1.07811</td>\n",
       "      <td>0.88209</td>\n",
       "      <td>grapes</td>\n",
       "    </tr>\n",
       "    <tr>\n",
       "      <th>3</th>\n",
       "      <td>2024-07-01</td>\n",
       "      <td>Pineapples</td>\n",
       "      <td>14</td>\n",
       "      <td>0.9438</td>\n",
       "      <td>10.92</td>\n",
       "      <td>1.03818</td>\n",
       "      <td>0.84942</td>\n",
       "      <td>pineapples</td>\n",
       "    </tr>\n",
       "    <tr>\n",
       "      <th>4</th>\n",
       "      <td>2024-07-04</td>\n",
       "      <td>Pineapples</td>\n",
       "      <td>8</td>\n",
       "      <td>2.3232</td>\n",
       "      <td>15.36</td>\n",
       "      <td>2.55552</td>\n",
       "      <td>2.09088</td>\n",
       "      <td>pineapples</td>\n",
       "    </tr>\n",
       "    <tr>\n",
       "      <th>...</th>\n",
       "      <td>...</td>\n",
       "      <td>...</td>\n",
       "      <td>...</td>\n",
       "      <td>...</td>\n",
       "      <td>...</td>\n",
       "      <td>...</td>\n",
       "      <td>...</td>\n",
       "      <td>...</td>\n",
       "    </tr>\n",
       "    <tr>\n",
       "      <th>95</th>\n",
       "      <td>2024-07-26</td>\n",
       "      <td>Apples</td>\n",
       "      <td>40</td>\n",
       "      <td>1.2342</td>\n",
       "      <td>40.80</td>\n",
       "      <td>1.35762</td>\n",
       "      <td>1.11078</td>\n",
       "      <td>apples</td>\n",
       "    </tr>\n",
       "    <tr>\n",
       "      <th>96</th>\n",
       "      <td>2024-07-11</td>\n",
       "      <td>Apples</td>\n",
       "      <td>36</td>\n",
       "      <td>0.8712</td>\n",
       "      <td>25.92</td>\n",
       "      <td>0.95832</td>\n",
       "      <td>0.78408</td>\n",
       "      <td>apples</td>\n",
       "    </tr>\n",
       "    <tr>\n",
       "      <th>97</th>\n",
       "      <td>2024-07-21</td>\n",
       "      <td>Pineapples</td>\n",
       "      <td>31</td>\n",
       "      <td>2.3837</td>\n",
       "      <td>61.07</td>\n",
       "      <td>2.62207</td>\n",
       "      <td>2.14533</td>\n",
       "      <td>pineapples</td>\n",
       "    </tr>\n",
       "    <tr>\n",
       "      <th>98</th>\n",
       "      <td>2024-07-12</td>\n",
       "      <td>Grapes</td>\n",
       "      <td>30</td>\n",
       "      <td>1.4762</td>\n",
       "      <td>36.60</td>\n",
       "      <td>1.62382</td>\n",
       "      <td>1.32858</td>\n",
       "      <td>grapes</td>\n",
       "    </tr>\n",
       "    <tr>\n",
       "      <th>99</th>\n",
       "      <td>2024-07-05</td>\n",
       "      <td>Grapes</td>\n",
       "      <td>34</td>\n",
       "      <td>1.5125</td>\n",
       "      <td>42.50</td>\n",
       "      <td>1.66375</td>\n",
       "      <td>1.36125</td>\n",
       "      <td>grapes</td>\n",
       "    </tr>\n",
       "  </tbody>\n",
       "</table>\n",
       "<p>100 rows × 8 columns</p>\n",
       "</div>"
      ],
      "text/plain": [
       "          Date     Product  Quantity   Price  Total Sales  IncreasedPrice  \\\n",
       "0   2024-07-13  Pineapples         7  1.1737         6.79         1.29107   \n",
       "1   2024-07-16  Pineapples        22  1.3310        24.20         1.46410   \n",
       "2   2024-07-22      Grapes        32  0.9801        25.92         1.07811   \n",
       "3   2024-07-01  Pineapples        14  0.9438        10.92         1.03818   \n",
       "4   2024-07-04  Pineapples         8  2.3232        15.36         2.55552   \n",
       "..         ...         ...       ...     ...          ...             ...   \n",
       "95  2024-07-26      Apples        40  1.2342        40.80         1.35762   \n",
       "96  2024-07-11      Apples        36  0.8712        25.92         0.95832   \n",
       "97  2024-07-21  Pineapples        31  2.3837        61.07         2.62207   \n",
       "98  2024-07-12      Grapes        30  1.4762        36.60         1.62382   \n",
       "99  2024-07-05      Grapes        34  1.5125        42.50         1.66375   \n",
       "\n",
       "    Discounted Price NewProductColumn  \n",
       "0            1.05633       pineapples  \n",
       "1            1.19790       pineapples  \n",
       "2            0.88209           grapes  \n",
       "3            0.84942       pineapples  \n",
       "4            2.09088       pineapples  \n",
       "..               ...              ...  \n",
       "95           1.11078           apples  \n",
       "96           0.78408           apples  \n",
       "97           2.14533       pineapples  \n",
       "98           1.32858           grapes  \n",
       "99           1.36125           grapes  \n",
       "\n",
       "[100 rows x 8 columns]"
      ]
     },
     "execution_count": 74,
     "metadata": {},
     "output_type": "execute_result"
    }
   ],
   "source": [
    "sales_df"
   ]
  },
  {
   "cell_type": "markdown",
   "metadata": {},
   "source": [
    "## Step 7: Grouping and Aggregation\n",
    "`Scenario`: Summarizing Sales Data by Product\n",
    "\n",
    "`Concept`: Grouping data and performing aggregation operations."
   ]
  },
  {
   "cell_type": "code",
   "execution_count": 80,
   "metadata": {},
   "outputs": [
    {
     "name": "stdout",
     "output_type": "stream",
     "text": [
      "           Quantity           \n",
      "                sum       mean\n",
      "Product                       \n",
      "Apples          703  27.038462\n",
      "Bananas         612  30.600000\n",
      "Grapes          663  25.500000\n",
      "Oranges         283  23.583333\n",
      "Pineapples      382  23.875000\n"
     ]
    }
   ],
   "source": [
    "#Grouping data by 'Product' and calculating the total quantity sold for each product\n",
    "\n",
    "#Aggregation Functions:\n",
    "\n",
    "# Average (also called arithmetic mean)\n",
    "# Count\n",
    "# Maximum\n",
    "# Minimum\n",
    "# Range\n",
    "# NaNmean (the mean ignoring NaN values, also known as \"nil\" or \"null\")\n",
    "# Median\n",
    "# Mode\n",
    "# Sum\n",
    "\n",
    "\n",
    "# grouped_df = sales_df.groupby('Product').agg({'Quantity': 'sum'})\n",
    "# print(grouped_df)\n",
    "\n",
    "#Grouping data by multiple columns and performing multiple aggregation functions\n",
    "\n",
    "grouped_multi_df = sales_df.groupby(['Product']).agg({\n",
    "    'Quantity': ['sum', 'mean']\n",
    "})\n",
    "print(grouped_multi_df)\n"
   ]
  },
  {
   "cell_type": "markdown",
   "metadata": {},
   "source": [
    "## Step 8: Merging and Joining\n",
    "`Scenario`: Combining Sales Data from Multiple Sources\n",
    "\n",
    "`Concept`: Merging and joining DataFrames"
   ]
  },
  {
   "cell_type": "code",
   "execution_count": 87,
   "metadata": {},
   "outputs": [
    {
     "name": "stdout",
     "output_type": "stream",
     "text": [
      "  ProductId  Product  Quantity  Price\n",
      "0      a001   Apples        30   0.50\n",
      "1      o001  Oranges        20   0.80\n",
      "2      b001  Bananas        15   0.30\n",
      "3      a002    Apple        23   0.87\n"
     ]
    }
   ],
   "source": [
    "# Creating another DataFrame with additional sales data\n",
    "\n",
    "data = {\n",
    "    'ProductId':['a001','o001','b001','a002'], #Primary Key\n",
    "    'Product': ['Apples', 'Oranges', 'Bananas','Apple'],\n",
    "    'Quantity': [30, 20, 15,23],\n",
    "    'Price': [0.50, 0.80, 0.30,0.87]\n",
    "}\n",
    "\n",
    "df = pd.DataFrame(data)\n",
    "print(df)\n",
    "\n",
    "# more_sales_data = {\n",
    "#     'Product': ['Apples', 'Oranges', 'Grapes'],\n",
    "#     'Quantity': [10, 5, 7],\n",
    "#     'Price': [0.50, 0.80, 1.20]\n",
    "# }\n",
    "\n",
    "# more_sales_df = pd.DataFrame(more_sales_data)\n",
    "\n",
    "# # Merging the two DataFrames on the 'Product' column\n",
    "# #Outer Join:\n",
    "# #Merges both the data tables based on a common column.\n",
    "# #Inner Join/#Left Outer JOIn/Right Outer\n",
    "\n",
    "# merged_df = pd.merge(df, more_sales_df, on='Product', how='outer', suffixes=('_old', '_new'))\n",
    "# print(merged_df)\n",
    "\n",
    "# grouped_df = merged_df.groupby('Product').agg({'Quantity_old': 'sum','Quantity_new': 'sum'})\n",
    "# print(grouped_df)\n",
    "\n",
    "# #Joining DataFrames using indices\n",
    "# joined_df = sales_df.set_index('Product').join(more_sales_df.set_index('Product'), lsuffix='_old', rsuffix='_new')\n",
    "# print(joined_df)\n"
   ]
  },
  {
   "cell_type": "markdown",
   "metadata": {},
   "source": [
    "## Step 9: Advanced Data Operations\n",
    "`Scenario`: Analyzing Sales Trends Over Time\n",
    "\n",
    "`Concept`: Pivot tables, date-time operations."
   ]
  },
  {
   "cell_type": "code",
   "execution_count": 88,
   "metadata": {},
   "outputs": [
    {
     "name": "stdout",
     "output_type": "stream",
     "text": [
      "Product     Apples  Bananas  Grapes  Oranges  Pineapples\n",
      "Date                                                    \n",
      "2024-07-01    51.0     49.0    40.0      NaN        14.0\n",
      "2024-07-02     5.0     25.0     NaN      NaN        37.0\n",
      "2024-07-03    32.0      NaN     NaN      NaN         NaN\n",
      "2024-07-04    16.0      NaN     4.0     49.0        73.0\n",
      "2024-07-05     NaN     35.0    62.0     39.0         NaN\n",
      "2024-07-06    39.0      NaN    29.0      NaN         NaN\n",
      "2024-07-07    74.0      NaN     NaN      9.0         NaN\n",
      "2024-07-08     NaN     21.0    19.0      NaN        54.0\n",
      "2024-07-09    22.0      NaN     6.0      NaN         NaN\n",
      "2024-07-10     NaN     49.0    90.0      NaN         NaN\n",
      "2024-07-11    80.0      NaN     NaN      NaN         NaN\n",
      "2024-07-12    18.0     47.0    30.0      NaN         NaN\n",
      "2024-07-13     NaN     45.0     NaN      4.0         7.0\n",
      "2024-07-14     NaN     23.0     NaN      NaN         NaN\n",
      "2024-07-15    49.0      4.0     NaN      NaN        84.0\n",
      "2024-07-16    35.0      NaN    55.0      NaN        22.0\n",
      "2024-07-17     NaN      NaN     NaN     12.0         NaN\n",
      "2024-07-18     NaN      3.0    45.0     13.0         NaN\n",
      "2024-07-19    36.0      NaN    56.0     12.0         NaN\n",
      "2024-07-20     NaN    141.0    28.0     24.0         NaN\n",
      "2024-07-21    76.0      NaN    44.0      NaN        31.0\n",
      "2024-07-22    16.0     46.0    58.0      NaN         NaN\n",
      "2024-07-24    69.0     48.0    50.0      NaN         NaN\n",
      "2024-07-25    45.0      NaN    41.0     73.0         NaN\n",
      "2024-07-26    40.0     76.0     6.0      NaN         NaN\n",
      "2024-07-27     NaN      NaN     NaN      NaN        31.0\n",
      "2024-07-28     NaN      NaN     NaN     28.0        25.0\n",
      "2024-07-29     NaN      NaN     NaN      NaN         4.0\n",
      "2024-07-30     NaN      NaN     NaN     20.0         NaN\n"
     ]
    }
   ],
   "source": [
    "date_sales_df = sales_df\n",
    "\n",
    "# Converting 'Date' column to datetime\n",
    "date_sales_df['Date'] = pd.to_datetime(date_sales_df['Date'])\n",
    "\n",
    "# Pivot table to summarize sales by date and product\n",
    "\n",
    "#values='Quantity': The values to be summarized (total quantities sold).\n",
    "#index='Date': The rows of the pivot table (dates).\n",
    "#columns='Product': The columns of the pivot table (products).\n",
    "#aggfunc='sum': The aggregation function to apply (sum of quantities).\n",
    "\n",
    "\n",
    "pivot_df = date_sales_df.pivot_table(values='Quantity', index='Date', columns='Product', aggfunc='sum')\n",
    "print(pivot_df)\n"
   ]
  },
  {
   "cell_type": "markdown",
   "metadata": {},
   "source": [
    "## `Calculate The Correlation of a Matrix`.\n",
    "\n"
   ]
  },
  {
   "cell_type": "code",
   "execution_count": 90,
   "metadata": {},
   "outputs": [
    {
     "name": "stdout",
     "output_type": "stream",
     "text": [
      "   Survived  Pclass                                               Name  \\\n",
      "0         0       3                             Mr. Owen Harris Braund   \n",
      "1         1       1  Mrs. John Bradley (Florence Briggs Thayer) Cum...   \n",
      "2         1       3                              Miss. Laina Heikkinen   \n",
      "3         1       1        Mrs. Jacques Heath (Lily May Peel) Futrelle   \n",
      "4         0       3                            Mr. William Henry Allen   \n",
      "\n",
      "      Sex   Age  Siblings/Spouses Aboard  Parents/Children Aboard     Fare  \n",
      "0    male  22.0                        1                        0   7.2500  \n",
      "1  female  38.0                        1                        0  71.2833  \n",
      "2  female  26.0                        0                        0   7.9250  \n",
      "3  female  35.0                        1                        0  53.1000  \n",
      "4    male  35.0                        0                        0   8.0500  \n",
      "0.11232863699941616\n"
     ]
    }
   ],
   "source": [
    "import pandas as pd\n",
    "import numpy as np\n",
    "\n",
    "\n",
    "\n",
    "url = \"https://web.stanford.edu/class/archive/cs/cs109/cs109.1166/stuff/titanic.csv\"\n",
    "titanic_df = pd.read_csv(url)\n",
    "\n",
    "# Display the first few rows of the dataset\n",
    "#print(titanic_df.head())\n",
    "\n",
    "\n",
    "def correlation_coefficient(x, y):\n",
    "    n = len(x)\n",
    "    mean_x, mean_y = np.mean(x), np.mean(y)\n",
    "    numerator = np.sum((x - mean_x) * (y - mean_y))\n",
    "    denominator = np.sqrt(np.sum((x - mean_x)**2) * np.sum((y - mean_y)**2))\n",
    "    return numerator / denominator\n",
    "\n",
    "\n",
    "\n",
    "age = titanic_df['Age'].values\n",
    "fare = titanic_df['Fare'].values\n",
    "\n",
    "# Calculate correlation coefficient\n",
    "r = correlation_coefficient(age, fare)\n",
    "\n",
    "print(r)"
   ]
  },
  {
   "cell_type": "code",
   "execution_count": null,
   "metadata": {},
   "outputs": [],
   "source": []
  }
 ],
 "metadata": {
  "kernelspec": {
   "display_name": ".venv",
   "language": "python",
   "name": "python3"
  },
  "language_info": {
   "codemirror_mode": {
    "name": "ipython",
    "version": 3
   },
   "file_extension": ".py",
   "mimetype": "text/x-python",
   "name": "python",
   "nbconvert_exporter": "python",
   "pygments_lexer": "ipython3",
   "version": "3.11.9"
  }
 },
 "nbformat": 4,
 "nbformat_minor": 2
}
