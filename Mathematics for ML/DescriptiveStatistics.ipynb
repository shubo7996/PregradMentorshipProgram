{
 "cells": [
  {
   "cell_type": "markdown",
   "metadata": {},
   "source": [
    "**1. Introduction to Statistics**\n",
    "\n",
    "Statistics is the discipline that is concerned with the collection, organization, analysis, interpretation, and presentation of data.\n",
    "\n",
    "There are two types of statistics:\n",
    "1. Descriptive Statistics\n",
    "2. Inferential Statistics\n",
    "\n",
    "**i) Descriptive Statistics**\n",
    "\n",
    "Descriptive Statistics uses graphical and numerical summaries to give us a picture of a list or series of numbers.\n",
    "\n",
    "In other words, it is used to simply describe the sample we are concerned with and it forms the base for every quantitative analysis. Descriptive statistics is used in three main ways:\n",
    "1. To get a feel of the data with the help of summary and simple graphical analysis.\n",
    "2. In statistical tests, which help us to make quantitative decisions.\n",
    "3. To indicate any errors associated with the result or graphical output.\n",
    "\n",
    "Descriptive statistics provides a powerful summary, helping us to compare it with other values or features within the dataset.\n",
    "\n",
    "**Example:**\n",
    "- Mean, Median, Mode, and all graphical visualizations are examples of Descriptive statistics.\n",
    "- For example, the batting average of a batsman, which is equal to the number of runs made divided by the total number of balls faced.\n",
    "\n",
    "**Limitations:**\n",
    "\n",
    "With the help of descriptive statistics alone, we cannot conclude inferences regarding any hypothesis we have made about the data. Hence, there is a need for a more complex form of statistics, or Inferential Statistics, which helps us draw inferences from the data.\n",
    "\n",
    "---"
   ]
  },
  {
   "cell_type": "markdown",
   "metadata": {
    "vscode": {
     "languageId": "plaintext"
    }
   },
   "source": [
    "**`Dataset Selection`**\n",
    "\n",
    "For demonstration purposes, I'll use the \"Iris\" dataset, which is commonly used for statistical analysis and machine learning. This dataset contains 150 samples of iris flowers, with four features (sepal length, sepal width, petal length, petal width) and one target variable (species)"
   ]
  },
  {
   "cell_type": "code",
   "execution_count": 1,
   "metadata": {},
   "outputs": [],
   "source": [
    "import pandas as pd\n",
    "\n",
    "# Load the Iris dataset\n",
    "iris = pd.read_csv('https://raw.githubusercontent.com/mwaskom/seaborn-data/master/iris.csv')\n",
    "\n",
    "# Display the first few rows of the dataset\n",
    "#print(iris)\n",
    "\n",
    "#iris['species'].unique()"
   ]
  },
  {
   "cell_type": "code",
   "execution_count": 2,
   "metadata": {},
   "outputs": [
    {
     "data": {
      "text/plain": [
       "array(['setosa', 'versicolor', 'virginica'], dtype=object)"
      ]
     },
     "execution_count": 2,
     "metadata": {},
     "output_type": "execute_result"
    }
   ],
   "source": [
    "\n",
    "iris['species'].unique()"
   ]
  },
  {
   "cell_type": "markdown",
   "metadata": {},
   "source": [
    "### **`Population And Sample Data`**\n",
    "\n",
    "#### `Population`: The entire group you want to draw conclusions about.\n",
    "#### `Sample`: A subset of the population used to represent the entire group."
   ]
  },
  {
   "cell_type": "code",
   "execution_count": 4,
   "metadata": {},
   "outputs": [
    {
     "name": "stdout",
     "output_type": "stream",
     "text": [
      "(30, 5)\n"
     ]
    }
   ],
   "source": [
    "## WHOLE POPULATION: (150, 5)\n",
    "## SAMPLE SET: (30, 5)\n",
    "\n",
    "\n",
    "# Example: Selecting a random sample of 30 observations from the dataset\n",
    "sample_iris = iris.sample(30)\n",
    "\n",
    "print(sample_iris.shape)\n",
    "print(iris.head(30))\n",
    "\n",
    "\n",
    "# We randomly select a sample of 30 observations from the Iris dataset to demonstrate sampling."
   ]
  },
  {
   "cell_type": "markdown",
   "metadata": {},
   "source": [
    "### **`Types Of Sampling Techniques`**\n",
    "\n",
    "#### `Random Sampling`: Each member of the population has an equal chance of being selected.\n",
    "#### `Stratified Sampling`: Dividing the population into subgroups and taking samples from each group.\n",
    "#### `Systematic Sampling`: Selecting every nth member of the population.\n",
    "#### `Cluster Sampling`: Dividing the population into clusters and randomly selecting clusters."
   ]
  },
  {
   "cell_type": "code",
   "execution_count": 3,
   "metadata": {},
   "outputs": [
    {
     "name": "stdout",
     "output_type": "stream",
     "text": [
      "    sepal_length  sepal_width  petal_length  petal_width species\n",
      "10           5.4          3.7           1.5          0.2  setosa\n",
      "41           4.5          2.3           1.3          0.3  setosa\n",
      "36           5.5          3.5           1.3          0.2  setosa\n",
      "33           5.5          4.2           1.4          0.2  setosa\n",
      "43           5.0          3.5           1.6          0.6  setosa\n"
     ]
    },
    {
     "name": "stderr",
     "output_type": "stream",
     "text": [
      "C:\\Users\\subhamoy\\AppData\\Local\\Temp\\ipykernel_4380\\2926408171.py:2: DeprecationWarning: DataFrameGroupBy.apply operated on the grouping columns. This behavior is deprecated, and in a future version of pandas the grouping columns will be excluded from the operation. Either pass `include_groups=False` to exclude the groupings or explicitly select the grouping columns after groupby to silence this warning.\n",
      "  stratified_sample = iris.groupby('species', group_keys=False).apply(lambda x: x.sample(5))\n"
     ]
    }
   ],
   "source": [
    "# Stratified sampling by species\n",
    "stratified_sample = iris.groupby('species', group_keys=False).apply(lambda x: x.sample(5))\n",
    "print(stratified_sample.head())"
   ]
  },
  {
   "cell_type": "code",
   "execution_count": 10,
   "metadata": {},
   "outputs": [
    {
     "name": "stdout",
     "output_type": "stream",
     "text": [
      "     sepal_length  sepal_width  petal_length  petal_width     species\n",
      "98            5.1          2.5           3.0          1.1  versicolor\n",
      "81            5.5          2.4           3.7          1.0  versicolor\n",
      "127           6.1          3.0           4.9          1.8   virginica\n",
      "113           5.7          2.5           5.0          2.0   virginica\n",
      "54            6.5          2.8           4.6          1.5  versicolor\n",
      "123           6.3          2.7           4.9          1.8   virginica\n",
      "126           6.2          2.8           4.8          1.8   virginica\n",
      "112           6.8          3.0           5.5          2.1   virginica\n",
      "149           5.9          3.0           5.1          1.8   virginica\n",
      "73            6.1          2.8           4.7          1.2  versicolor\n"
     ]
    }
   ],
   "source": [
    "import pandas as pd\n",
    "import numpy as np\n",
    "\n",
    "# Example dataset\n",
    "# data = {'ID': list(range(1, 101)), 'Value': [x*10 for x in range(1, 101)]}\n",
    "# df = pd.DataFrame(data)\n",
    "\n",
    "# #print(df)\n",
    "\n",
    "# # # Systematic Sampling: Select every 5th member\n",
    "# n = 5  # Every nth member\n",
    "# systematic_sample = df.iloc[::n]\n",
    "\n",
    "# print(systematic_sample)\n",
    "\n",
    "\n",
    "\n",
    "# # Example dataset\n",
    "# data = {'Cluster': np.random.choice(['A', 'B', 'C', 'D'], 100), \n",
    "#         'ID': list(range(1, 101)), \n",
    "#         'Value': [x*10 for x in range(1, 101)]}\n",
    "# df = pd.DataFrame(data)\n",
    "\n",
    "# #print(df)\n",
    "# # # Cluster Sampling: Randomly select clusters and include all members of the selected clusters\n",
    "# selected_clusters = ['A', 'C']  # Let's say we randomly selected clusters 'A' and 'C'\n",
    "# cluster_sample = df[df['Cluster'].isin(selected_clusters)]\n",
    "\n",
    "# print(cluster_sample.sample(15))\n",
    "\n",
    "\n",
    "selected_clusters=['versicolor', 'virginica']\n",
    "cluster_sample = iris[iris['species'].isin(selected_clusters)]\n",
    "print(cluster_sample.sample(10))\n"
   ]
  },
  {
   "cell_type": "markdown",
   "metadata": {},
   "source": [
    "### **`Types Of Data`**\n",
    "#### `Quantitative Data`: Numerical data (e.g., sepal length, petal width).\n",
    "#### `Qualitative Data`: Categorical data (e.g., species)."
   ]
  },
  {
   "cell_type": "code",
   "execution_count": 11,
   "metadata": {},
   "outputs": [
    {
     "name": "stdout",
     "output_type": "stream",
     "text": [
      "   sepal_length  sepal_width\n",
      "0           5.1          3.5\n",
      "1           4.9          3.0\n",
      "2           4.7          3.2\n",
      "3           4.6          3.1\n",
      "4           5.0          3.6\n",
      "0    setosa\n",
      "1    setosa\n",
      "2    setosa\n",
      "3    setosa\n",
      "4    setosa\n",
      "Name: species, dtype: object\n"
     ]
    }
   ],
   "source": [
    "# Quantitative data example\n",
    "print(iris[['sepal_length', 'sepal_width']].head())\n",
    "\n",
    "# Qualitative data example\n",
    "print(iris['species'].head())\n"
   ]
  },
  {
   "cell_type": "markdown",
   "metadata": {},
   "source": [
    "### `Scales Of Measurement Of Data`\n",
    "#### `Nominal Scale`: Categorical data without any order (e.g., species).\n",
    "#### `Ordinal Scale`: Categorical data with an order (e.g., ranking).\n",
    "#### `Interval Scale`: Numerical data without a true zero (e.g., temperature).\n",
    "#### `Ratio Scale`: Numerical data with a true zero (e.g., sepal length)."
   ]
  },
  {
   "cell_type": "code",
   "execution_count": 9,
   "metadata": {},
   "outputs": [
    {
     "name": "stdout",
     "output_type": "stream",
     "text": [
      "['setosa' 'versicolor' 'virginica']\n",
      "4.3\n"
     ]
    }
   ],
   "source": [
    "# Example of Nominal Scale\n",
    "print(iris['species'].unique())\n",
    "\n",
    "# Example of Ratio Scale\n",
    "print(iris['sepal_length'].min())   \n"
   ]
  },
  {
   "cell_type": "markdown",
   "metadata": {},
   "source": [
    "### **Descriptive Statistics**\n",
    "1. **Measure Of Central Tendency (Mean, Median, And Mode)**\n",
    "2. **Measures Of Dispersion (Range, Variance, Standard Deviation)**\n",
    "3. **Why Sample Variance is Divided by n-1**\n",
    "4. **Random Variables**\n",
    "5. **Percentiles And Quartiles**\n",
    "6. **5 Number Summary**\n",
    "7. **Histogram And Skewness**\n",
    "8. **Covariance And Correlation**\n"
   ]
  },
  {
   "cell_type": "markdown",
   "metadata": {},
   "source": [
    "### *`Measure Of Central Tendency (Mean, Median, Mode)`*\n",
    "\n",
    "`Mean`: The average of all data points.\n",
    "`Median`: The middle value when data points are ordered.\n",
    "`Mode`: The most frequent value in the dataset."
   ]
  },
  {
   "cell_type": "code",
   "execution_count": 21,
   "metadata": {},
   "outputs": [
    {
     "data": {
      "text/plain": [
       "numpy.float64"
      ]
     },
     "execution_count": 21,
     "metadata": {},
     "output_type": "execute_result"
    }
   ],
   "source": [
    "# # Mean, Median, and Mode for Sepal Length\n",
    "# mean_sepal_length = iris['sepal_length'].mean()\n",
    "# median_sepal_length = iris['sepal_length'].median()\n",
    "# mode_sepal_length = iris['sepal_length'].mode()[0]\n",
    "\n",
    "# print(f\"Mean: {mean_sepal_length}, Median: {median_sepal_length}, Mode: {mode_sepal_length}\")\n",
    "\n",
    "\n",
    "type(iris['sepal_length'].mode()[0])\n"
   ]
  },
  {
   "cell_type": "markdown",
   "metadata": {},
   "source": [
    "### *`Measures Of Dispersion (Range, Variance, Standard Deviation)`*\n",
    "\n",
    "`Range`: The difference between the maximum and minimum values.\n",
    "`Variance`: The average of the squared differences from the mean.\n",
    "`Standard Deviation`: The square root of the variance, representing data spread.\n",
    "\n",
    "\n",
    "`Variance` measures how much numbers in a data set vary from the mean, while `standard deviation` measures how far apart numbers are in a data set"
   ]
  },
  {
   "cell_type": "code",
   "execution_count": 22,
   "metadata": {},
   "outputs": [
    {
     "name": "stdout",
     "output_type": "stream",
     "text": [
      "Range: 3.6000000000000005, Variance: 0.6856935123042507, Standard Deviation: 0.828066127977863\n"
     ]
    }
   ],
   "source": [
    "# Range, Variance, and Standard Deviation for Sepal Length\n",
    "range_sepal_length = iris['sepal_length'].max() - iris['sepal_length'].min()\n",
    "variance_sepal_length = iris['sepal_length'].var()\n",
    "std_dev_sepal_length = iris['sepal_length'].std()\n",
    "\n",
    "print(f\"Range: {range_sepal_length}, Variance: {variance_sepal_length}, Standard Deviation: {std_dev_sepal_length}\")\n"
   ]
  },
  {
   "cell_type": "markdown",
   "metadata": {},
   "source": [
    "### *`Why Sample Variance is Divided by n-1`*\n",
    "\n",
    "#### The sample variance is divided by (n-1) to make the sample variance an unbiased estimator of the population variance. This correction is known as Bessel's correction.\n",
    "\n",
    "Explanation:\n",
    "\n",
    "When computing the variance from a sample, dividing by (n-1) instead of n corrects for bias"
   ]
  },
  {
   "cell_type": "markdown",
   "metadata": {},
   "source": [
    "### *`Random Variables`*\n",
    "A random variable is a variable whose possible values are outcomes of a random phenomenon.\n",
    "\n",
    "Example:\n",
    "\n",
    "The sepal length of a randomly chosen iris flower can be considered a random variable"
   ]
  },
  {
   "cell_type": "code",
   "execution_count": 30,
   "metadata": {},
   "outputs": [
    {
     "data": {
      "text/html": [
       "<div>\n",
       "<style scoped>\n",
       "    .dataframe tbody tr th:only-of-type {\n",
       "        vertical-align: middle;\n",
       "    }\n",
       "\n",
       "    .dataframe tbody tr th {\n",
       "        vertical-align: top;\n",
       "    }\n",
       "\n",
       "    .dataframe thead th {\n",
       "        text-align: right;\n",
       "    }\n",
       "</style>\n",
       "<table border=\"1\" class=\"dataframe\">\n",
       "  <thead>\n",
       "    <tr style=\"text-align: right;\">\n",
       "      <th></th>\n",
       "      <th>sepal_length</th>\n",
       "      <th>sepal_width</th>\n",
       "      <th>petal_length</th>\n",
       "      <th>petal_width</th>\n",
       "      <th>species</th>\n",
       "    </tr>\n",
       "  </thead>\n",
       "  <tbody>\n",
       "    <tr>\n",
       "      <th>146</th>\n",
       "      <td>6.3</td>\n",
       "      <td>2.5</td>\n",
       "      <td>5.0</td>\n",
       "      <td>1.9</td>\n",
       "      <td>virginica</td>\n",
       "    </tr>\n",
       "    <tr>\n",
       "      <th>134</th>\n",
       "      <td>6.1</td>\n",
       "      <td>2.6</td>\n",
       "      <td>5.6</td>\n",
       "      <td>1.4</td>\n",
       "      <td>virginica</td>\n",
       "    </tr>\n",
       "    <tr>\n",
       "      <th>96</th>\n",
       "      <td>5.7</td>\n",
       "      <td>2.9</td>\n",
       "      <td>4.2</td>\n",
       "      <td>1.3</td>\n",
       "      <td>versicolor</td>\n",
       "    </tr>\n",
       "    <tr>\n",
       "      <th>99</th>\n",
       "      <td>5.7</td>\n",
       "      <td>2.8</td>\n",
       "      <td>4.1</td>\n",
       "      <td>1.3</td>\n",
       "      <td>versicolor</td>\n",
       "    </tr>\n",
       "    <tr>\n",
       "      <th>84</th>\n",
       "      <td>5.4</td>\n",
       "      <td>3.0</td>\n",
       "      <td>4.5</td>\n",
       "      <td>1.5</td>\n",
       "      <td>versicolor</td>\n",
       "    </tr>\n",
       "    <tr>\n",
       "      <th>74</th>\n",
       "      <td>6.4</td>\n",
       "      <td>2.9</td>\n",
       "      <td>4.3</td>\n",
       "      <td>1.3</td>\n",
       "      <td>versicolor</td>\n",
       "    </tr>\n",
       "    <tr>\n",
       "      <th>138</th>\n",
       "      <td>6.0</td>\n",
       "      <td>3.0</td>\n",
       "      <td>4.8</td>\n",
       "      <td>1.8</td>\n",
       "      <td>virginica</td>\n",
       "    </tr>\n",
       "    <tr>\n",
       "      <th>11</th>\n",
       "      <td>4.8</td>\n",
       "      <td>3.4</td>\n",
       "      <td>1.6</td>\n",
       "      <td>0.2</td>\n",
       "      <td>setosa</td>\n",
       "    </tr>\n",
       "    <tr>\n",
       "      <th>139</th>\n",
       "      <td>6.9</td>\n",
       "      <td>3.1</td>\n",
       "      <td>5.4</td>\n",
       "      <td>2.1</td>\n",
       "      <td>virginica</td>\n",
       "    </tr>\n",
       "    <tr>\n",
       "      <th>106</th>\n",
       "      <td>4.9</td>\n",
       "      <td>2.5</td>\n",
       "      <td>4.5</td>\n",
       "      <td>1.7</td>\n",
       "      <td>virginica</td>\n",
       "    </tr>\n",
       "  </tbody>\n",
       "</table>\n",
       "</div>"
      ],
      "text/plain": [
       "     sepal_length  sepal_width  petal_length  petal_width     species\n",
       "146           6.3          2.5           5.0          1.9   virginica\n",
       "134           6.1          2.6           5.6          1.4   virginica\n",
       "96            5.7          2.9           4.2          1.3  versicolor\n",
       "99            5.7          2.8           4.1          1.3  versicolor\n",
       "84            5.4          3.0           4.5          1.5  versicolor\n",
       "74            6.4          2.9           4.3          1.3  versicolor\n",
       "138           6.0          3.0           4.8          1.8   virginica\n",
       "11            4.8          3.4           1.6          0.2      setosa\n",
       "139           6.9          3.1           5.4          2.1   virginica\n",
       "106           4.9          2.5           4.5          1.7   virginica"
      ]
     },
     "execution_count": 30,
     "metadata": {},
     "output_type": "execute_result"
    }
   ],
   "source": [
    "# Example of a random variable: Sepal length of a random sample\n",
    "\n",
    "sample_iris = iris.sample(10)\n",
    "\n",
    "#sample_iris\n",
    "\n",
    "random_variable = sample_iris['sepal_length']\n",
    "print(random_variable.head())\n"
   ]
  },
  {
   "cell_type": "markdown",
   "metadata": {},
   "source": [
    "### *`Percentiles And Quartiles`*\n",
    "\n",
    "#### `Percentiles`: Indicate the value below which a given percentage of observations fall.\n",
    "#### `Quartiles`: Divide the data into four equal parts"
   ]
  },
  {
   "cell_type": "code",
   "execution_count": 31,
   "metadata": {},
   "outputs": [
    {
     "name": "stdout",
     "output_type": "stream",
     "text": [
      "25th Percentile: 5.1, Median (50th Percentile): 5.8, 75th Percentile: 6.4\n"
     ]
    }
   ],
   "source": [
    "# Percentiles and Quartiles for Sepal Length\n",
    "percentile_25 = iris['sepal_length'].quantile(0.25)\n",
    "percentile_50 = iris['sepal_length'].quantile(0.5)\n",
    "percentile_75 = iris['sepal_length'].quantile(0.75)\n",
    "\n",
    "print(f\"25th Percentile: {percentile_25}, Median (50th Percentile): {percentile_50}, 75th Percentile: {percentile_75}\")\n"
   ]
  },
  {
   "cell_type": "markdown",
   "metadata": {},
   "source": [
    "### *`5 Number Summary`*\n",
    "#### The five-number summary includes the minimum, first quartile (25th percentile), median (50th percentile), third quartile (75th percentile), and maximum."
   ]
  },
  {
   "cell_type": "code",
   "execution_count": 33,
   "metadata": {},
   "outputs": [
    {
     "name": "stdout",
     "output_type": "stream",
     "text": [
      "min    1.400\n",
      "25%    1.400\n",
      "50%    1.400\n",
      "75%    3.575\n",
      "max    5.100\n",
      "Name: petal_length, dtype: float64\n"
     ]
    }
   ],
   "source": [
    "sample_iris = iris.sample(10)\n",
    "five_number_summary = sample_iris['petal_length'].describe()[['min', '25%', '50%', '75%', 'max']]\n",
    "print(five_number_summary)"
   ]
  },
  {
   "cell_type": "markdown",
   "metadata": {},
   "source": [
    "### *`Histogram And Skewness`*\n",
    "\n",
    "`Histogram`: A graphical representation of the distribution of data.\n",
    "`Skewness`: A measure of the asymmetry of the distribution"
   ]
  },
  {
   "cell_type": "code",
   "execution_count": 16,
   "metadata": {},
   "outputs": [
    {
     "data": {
      "image/png": "[encoded data removed]",
      "text/plain": [
       "<Figure size 640x480 with 1 Axes>"
      ]
     },
     "metadata": {},
     "output_type": "display_data"
    },
    {
     "name": "stdout",
     "output_type": "stream",
     "text": [
      "Skewness: 0.3149109566369728\n"
     ]
    }
   ],
   "source": [
    "import matplotlib.pyplot as plt\n",
    "\n",
    "# Histogram and Skewness for Sepal Length\n",
    "plt.hist(iris['sepal_length'], bins=10, color='skyblue', edgecolor='black')\n",
    "plt.title('Histogram of Sepal Length')\n",
    "plt.xlabel('Sepal Length')\n",
    "plt.ylabel('Frequency')\n",
    "plt.show()\n",
    "\n",
    "# Skewness\n",
    "skewness = iris['sepal_length'].skew()\n",
    "print(f\"Skewness: {skewness}\")\n"
   ]
  },
  {
   "cell_type": "markdown",
   "metadata": {},
   "source": [
    "### `Covariance And Correlation`\n",
    "\n",
    "#### `Covariance` tells us the direction of the linear relationship between variables (positive for direct relationships and negative for inverse relationships).\n",
    "#### `Correlation` quantifies the strength and direction of the linear relationship between two variables. It ranges between -1 and 1, where 1 indicates a perfect positive linear relationship, -1 indicates a perfect negative linear relationship, and 0 indicates no linear relationship."
   ]
  },
  {
   "cell_type": "code",
   "execution_count": 34,
   "metadata": {},
   "outputs": [
    {
     "name": "stdout",
     "output_type": "stream",
     "text": [
      "Covariance: -0.04, Correlation: -0.12\n"
     ]
    }
   ],
   "source": [
    "# Covariance and Correlation between Sepal Length and Sepal Width\n",
    "covariance = iris[['sepal_length', 'sepal_width']].cov().iloc[0, 1]\n",
    "correlation = iris[['sepal_length', 'sepal_width']].corr().iloc[0, 1]\n",
    "\n",
    "print(f\"Covariance: {covariance:.2f}, Correlation: {correlation:.2f}\")\n"
   ]
  },
  {
   "cell_type": "markdown",
   "metadata": {},
   "source": [
    "### Explanation:\n",
    "\n",
    "#### `Covariance`: We use the cov() function to compute the covariance between sepal_length and sepal_width. A positive covariance indicates that as one variable increases, the other tends to increase as well.\n",
    "#### `Correlation`: The corr() function gives us the Pearson correlation coefficient, which measures the linear relationship between the two variables. The correlation value close to 0 suggests a weak linear relationship, whereas values closer to 1 or -1 suggest strong relationships."
   ]
  },
  {
   "cell_type": "markdown",
   "metadata": {},
   "source": [
    "Correlation is defined as a statistic that helps to measure the degree of movement of two variables in relation to one other. \n",
    "\n",
    "R-squared helps to understand how the extent of variance of a variable can help to explain the variance of the other variable"
   ]
  }
 ],
 "metadata": {
  "kernelspec": {
   "display_name": ".venv",
   "language": "python",
   "name": "python3"
  },
  "language_info": {
   "codemirror_mode": {
    "name": "ipython",
    "version": 3
   },
   "file_extension": ".py",
   "mimetype": "text/x-python",
   "name": "python",
   "nbconvert_exporter": "python",
   "pygments_lexer": "ipython3",
   "version": "3.11.9"
  }
 },
 "nbformat": 4,
 "nbformat_minor": 2
}
