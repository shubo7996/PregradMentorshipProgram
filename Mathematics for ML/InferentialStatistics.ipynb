{
 "cells": [
  {
   "cell_type": "markdown",
   "metadata": {},
   "source": [
    "\n",
    "\n",
    "Imagine we're playing with toys to understand these concepts!\n",
    "\n",
    "### Inferential Statistics\n",
    "\n",
    "**Inferential statistics** is like guessing how many candies are in a big jar by looking at a small handful of candies.\n",
    "\n",
    "#### Key Concepts:\n",
    "1. **Population vs. Sample**:\n",
    "   - **Population**: All the candies in the jar.\n",
    "   - **Sample**: A small handful of candies we take out to look at.\n",
    "\n",
    "2. **Parameters vs. Statistics**:\n",
    "   - **Parameter**: The total number of candies in the jar (we don't know this).\n",
    "   - **Statistic**: The number of candies in our handful (we can count this).\n",
    "\n",
    "3. **Sampling Methods**:\n",
    "   - **Random Sampling**: Picking candies randomly from the jar.\n",
    "   - **Stratified Sampling**: Dividing candies by color and then picking some from each color group.\n",
    "\n",
    "### Hypothesis Testing\n",
    "\n",
    "**Hypothesis testing** is like checking if a new toy is more fun than an old toy.\n",
    "\n",
    "### **Hypothesis**a proposition made as a basis for reasoning, without any assumption of its truth.\n",
    "\n",
    "#### Steps in Hypothesis Testing:\n",
    "1. **State the Hypotheses**:\n",
    "   - **Null Hypothesis (H₀)**: The new toy is not more fun than the old toy.\n",
    "   - **Alternative Hypothesis (H₁)**: The new toy is more fun than the old toy.\n",
    "\n",
    "2. **Choose a Significance Level (α)**:\n",
    "   - Let's say we want to be 95% sure, so α = 0.05.\n",
    "\n",
    "3. **Collect Data and Calculate a Test Statistic**:\n",
    "   - We play with both toys and see how much fun we have.\n",
    "\n",
    "4. **Determine the P-value**:\n",
    "   - The P-value tells us how likely it is that the new toy is not more fun.\n",
    "\n",
    "5. **Make a Decision**:\n",
    "   - If the P-value is less than 0.05, we say the new toy is more fun.\n",
    "   - If the P-value is more than 0.05, we say there's no difference.\n"
   ]
  },
  {
   "cell_type": "code",
   "execution_count": 1,
   "metadata": {},
   "outputs": [
    {
     "name": "stdout",
     "output_type": "stream",
     "text": [
      "Requirement already satisfied: scipy in e:\\codes\\.venv\\lib\\site-packages (1.14.1)\n",
      "Requirement already satisfied: numpy<2.3,>=1.23.5 in e:\\codes\\.venv\\lib\\site-packages (from scipy) (2.0.1)\n",
      "Note: you may need to restart the kernel to use updated packages.\n"
     ]
    }
   ],
   "source": [
    "%pip install scipy"
   ]
  },
  {
   "cell_type": "code",
   "execution_count": 2,
   "metadata": {},
   "outputs": [
    {
     "name": "stdout",
     "output_type": "stream",
     "text": [
      "Mean Fun (New Toy): 8.8\n",
      "Mean Fun (Old Toy): 6.5\n",
      "T-statistic: 7.666666666666668\n",
      "P-value: 4.468717535610035e-07\n",
      "Reject the null hypothesis. The new toy is more fun!\n"
     ]
    }
   ],
   "source": [
    "### Example in Python\n",
    "\n",
    "\n",
    "import numpy as np\n",
    "from scipy import stats\n",
    "\n",
    "# Fun scores\n",
    "new_toy_fun = [8, 9, 8, 10, 9, 8, 9, 10, 9, 8]\n",
    "old_toy_fun = [6, 7, 6, 7, 6, 7, 6, 7, 6, 7]\n",
    "\n",
    "# Calculate the means\n",
    "mean_new = np.mean(new_toy_fun)\n",
    "mean_old = np.mean(old_toy_fun)\n",
    "\n",
    "# Perform a t-test\n",
    "t_stat, p_value = stats.ttest_ind(new_toy_fun, old_toy_fun)\n",
    "\n",
    "print(f\"Mean Fun (New Toy): {mean_new}\")\n",
    "print(f\"Mean Fun (Old Toy): {mean_old}\")\n",
    "print(f\"T-statistic: {t_stat}\")\n",
    "print(f\"P-value: {p_value}\")\n",
    "\n",
    "# Decision\n",
    "alpha = 0.05\n",
    "if p_value < alpha:\n",
    "    print(\"Reject the null hypothesis. The new toy is more fun!\")\n",
    "else:\n",
    "    print(\"Fail to reject the null hypothesis. No significant difference in fun.\")\n",
    "\n",
    "\n",
    "# ### Explanation:\n",
    "# 1. **Data Collection**: We have fun scores for both toys.\n",
    "# 2. **Calculate Means**: Compute the average fun scores for both toys.\n",
    "# 3. **T-test**: Perform a t-test to compare the fun scores.\n",
    "# 4. **Decision**: Based on the P-value, decide if the new toy is more fun.\n"
   ]
  },
  {
   "cell_type": "markdown",
   "metadata": {},
   "source": [
    "### Grouping Topics and Subtopics\n",
    "\n",
    "1. **Hypothesis Testing**\n",
    "   - Z test and Hypothesis Testing\n",
    "   - P value Hypothesis Testing\n",
    "   - T test vs T test\n",
    "   - Type 1 And Type 2 Error\n",
    "\n",
    "2. **Distributions**\n",
    "   - Student T Distribution\n",
    "\n",
    "3. **Bayesian Statistics**\n",
    "   - Bayes’ Theorem\n",
    "\n",
    "4. **Confidence Intervals**\n",
    "   - Confidence Interval And Margin Of Error\n",
    "\n",
    "5. **Chi-Square Tests**\n",
    "   - Chi Square Test Of Fitness\n",
    "   - Chi Square Test Of Independence\n",
    "\n",
    "6. **ANOVA (Analysis of Variance)**\n",
    "   - ANOVA (Analysis of Variance)\n",
    "   - Assumptions Of ANOVA\n",
    "   - Types Of ANOVA\n"
   ]
  },
  {
   "cell_type": "markdown",
   "metadata": {},
   "source": [
    "## 1. `Hypothesis Testing`\n",
    "### Z test and Hypothesis Testing\n",
    "\n",
    "#### `Explanation`: Imagine you have a big jar of candies, and you want to know if the candies are equally divided between red and blue. A Z test helps you check if the number of red candies is different from what you expect."
   ]
  },
  {
   "cell_type": "code",
   "execution_count": 3,
   "metadata": {},
   "outputs": [
    {
     "name": "stdout",
     "output_type": "stream",
     "text": [
      "Z-score: 1.8257418583505538, P-value: 0.06788915486182899\n"
     ]
    }
   ],
   "source": [
    "import numpy as np\n",
    "from scipy import stats\n",
    "\n",
    "# Sample data\n",
    "sample_mean = 105\n",
    "population_mean = 100\n",
    "population_std = 15\n",
    "sample_size = 30\n",
    "\n",
    "# Z test calculation\n",
    "z_score = (sample_mean - population_mean) / (population_std / np.sqrt(sample_size))\n",
    "p_value = stats.norm.sf(abs(z_score)) * 2  # two-tailed test\n",
    "\n",
    "print(f\"Z-score: {z_score}, P-value: {p_value}\")\n",
    "\n",
    "\n",
    "## Z-test vs p_value\n"
   ]
  },
  {
   "cell_type": "markdown",
   "metadata": {},
   "source": [
    "### P value Hypothesis Testing\n",
    "\n",
    "#### `Explanation`: The p-value tells us how likely it is to get our test results if the null hypothesis (no effect or no difference) is true. A small p-value means we should reject the null hypothesis."
   ]
  },
  {
   "cell_type": "code",
   "execution_count": 4,
   "metadata": {},
   "outputs": [
    {
     "name": "stdout",
     "output_type": "stream",
     "text": [
      "Fail to reject the null hypothesis\n"
     ]
    }
   ],
   "source": [
    "# Using the same Z test example\n",
    "alpha = 0.05  # significance level\n",
    "\n",
    "if p_value < alpha:\n",
    "    print(\"Reject the null hypothesis\")\n",
    "else:\n",
    "    print(\"Fail to reject the null hypothesis\")\n"
   ]
  },
  {
   "cell_type": "markdown",
   "metadata": {},
   "source": [
    "### T test vs T test\n",
    "\n",
    "#### `Explanation`: A T test is like a Z test but used when we don’t know the population standard deviation and have a small sample size. There are different types of T tests: one-sample, two-sample, and paired."
   ]
  },
  {
   "cell_type": "code",
   "execution_count": 5,
   "metadata": {},
   "outputs": [
    {
     "name": "stdout",
     "output_type": "stream",
     "text": [
      "T-statistic: 0.5813183589761801, P-value: 0.5770332563802609\n"
     ]
    }
   ],
   "source": [
    "# Two-sample T test example\n",
    "sample1 = [2.3, 2.5, 2.8, 3.0, 3.2]\n",
    "sample2 = [2.1, 2.4, 2.6, 2.9, 3.1]\n",
    "\n",
    "t_stat, p_value = stats.ttest_ind(sample1, sample2)\n",
    "print(f\"T-statistic: {t_stat}, P-value: {p_value}\")\n"
   ]
  },
  {
   "cell_type": "markdown",
   "metadata": {},
   "source": [
    "### Type 1 And Type 2 Error\n",
    "\n",
    "#### `Explanation`:\n",
    "\n",
    "##### `Type 1 Error`: Saying there is an effect when there isn’t (false positive).\n",
    "##### `Type 2 Error`: Saying there isn’t an effect when there is (false negative)."
   ]
  },
  {
   "cell_type": "markdown",
   "metadata": {},
   "source": [
    "## 2. `Distributions`\n",
    "### Student T Distribution\n",
    "\n",
    "#### `Explanation`: The Student T distribution is used when the sample size is small, and the population standard deviation is unknown. It looks like a normal distribution but with heavier tails."
   ]
  },
  {
   "cell_type": "code",
   "execution_count": 6,
   "metadata": {},
   "outputs": [
    {
     "data": {
      "image/png": "[encoded data removed]",
      "text/plain": [
       "<Figure size 640x480 with 1 Axes>"
      ]
     },
     "metadata": {},
     "output_type": "display_data"
    }
   ],
   "source": [
    "import matplotlib.pyplot as plt\n",
    "\n",
    "df = 10  # degrees of freedom\n",
    "x = np.linspace(-4, 4, 100)\n",
    "y = stats.t.pdf(x, df)\n",
    "\n",
    "plt.plot(x, y, label=f'T-distribution (df={df})')\n",
    "plt.legend()\n",
    "plt.show()"
   ]
  },
  {
   "cell_type": "markdown",
   "metadata": {},
   "source": [
    "## 3. `Bayesian Statistics`\n",
    "### Bayes’ Theorem\n",
    "\n",
    "#### `Explanation`: Bayes’ Theorem helps us update our beliefs based on new evidence. It’s like updating your guess about the number of candies in the jar after seeing some candies"
   ]
  },
  {
   "cell_type": "code",
   "execution_count": 7,
   "metadata": {},
   "outputs": [
    {
     "name": "stdout",
     "output_type": "stream",
     "text": [
      "Posterior probability: 0.16666666666666655\n"
     ]
    }
   ],
   "source": [
    "# Example of Bayes' Theorem\n",
    "prior = 0.01  # prior probability of having a disease\n",
    "sensitivity = 0.99  # true positive rate\n",
    "specificity = 0.95  # true negative rate\n",
    "\n",
    "#Probabilistic Brain. #Update based on new Experiences.\n",
    "\n",
    "# Bayes' Theorem calculation\n",
    "posterior = (sensitivity * prior) / ((sensitivity * prior) + ((1 - specificity) * (1 - prior)))\n",
    "print(f\"Posterior probability: {posterior}\")\n"
   ]
  },
  {
   "cell_type": "markdown",
   "metadata": {},
   "source": [
    "## 4. `Confidence Intervals`\n",
    "### Confidence Interval And Margin Of Error\n",
    "\n",
    "#### `Explanation`: A confidence interval gives us a range where we expect the true population parameter to be. The margin of error tells us how much we expect our sample estimate to vary.\n",
    "\n"
   ]
  },
  {
   "cell_type": "code",
   "execution_count": 8,
   "metadata": {},
   "outputs": [
    {
     "name": "stdout",
     "output_type": "stream",
     "text": [
      "Confidence Interval: (np.float64(2.623821899650403), np.float64(2.8961781003495974))\n"
     ]
    }
   ],
   "source": [
    "# Confidence interval for a sample mean\n",
    "#the maximum number of logically independent values, which may vary in a data sample.\n",
    "\n",
    "confidence_level = 0.95\n",
    "degrees_freedom = sample_size - 1\n",
    "sample_mean = np.mean(sample1)\n",
    "sample_std = np.std(sample1, ddof=1)\n",
    "\n",
    "confidence_interval = stats.t.interval(confidence_level, degrees_freedom, sample_mean, sample_std / np.sqrt(sample_size))\n",
    "print(f\"Confidence Interval: {confidence_interval}\")\n"
   ]
  },
  {
   "cell_type": "markdown",
   "metadata": {},
   "source": [
    "## 5. `Chi-Square Tests`\n",
    "### Chi Square Test Of Fitness\n",
    "\n",
    "#### `Explanation`: A Chi-Square Test of Fitness checks if the observed frequencies match the expected frequencies. It’s like checking if the candies in the jar are equally divided."
   ]
  },
  {
   "cell_type": "code",
   "execution_count": 9,
   "metadata": {},
   "outputs": [
    {
     "name": "stdout",
     "output_type": "stream",
     "text": [
      "Chi-Square Statistic: 5.833333333333334, P-value: 0.05411376622282158\n"
     ]
    }
   ],
   "source": [
    "import numpy as np\n",
    "from scipy import stats\n",
    "\n",
    "# Observed frequencies\n",
    "observed = [50, 30, 20] #100\n",
    "\n",
    "# Adjusted expected frequencies\n",
    "expected = [40, 30, 30] # 100\n",
    "\n",
    "# Chi-Square Test of Fitness\n",
    "chi_square_stat, p_value = stats.chisquare(observed, expected)\n",
    "print(f\"Chi-Square Statistic: {chi_square_stat}, P-value: {p_value}\")\n"
   ]
  },
  {
   "cell_type": "markdown",
   "metadata": {},
   "source": [
    "### Chi Square Test Of Independence\n",
    "\n",
    "#### `Explanation`: Imagine you have two types of candies: chocolate and gummy. You want to check if the color of the candies is independent of the type. The Chi-Square Test of Independence helps you see if there is a relationship between two categorical variables."
   ]
  },
  {
   "cell_type": "code",
   "execution_count": 10,
   "metadata": {},
   "outputs": [
    {
     "name": "stdout",
     "output_type": "stream",
     "text": [
      "Chi2 Statistic: 2.7777777777777777, P-value: 0.2493522087772962\n"
     ]
    }
   ],
   "source": [
    "# Observed frequencies in a contingency table\n",
    "observed = np.array([[10, 10, 20], [20, 20, 20]])\n",
    "\n",
    "# Chi-Square Test of Independence\n",
    "chi2, p, dof, expected = stats.chi2_contingency(observed)\n",
    "print(f\"Chi2 Statistic: {chi2}, P-value: {p}\")\n"
   ]
  },
  {
   "cell_type": "markdown",
   "metadata": {},
   "source": [
    "## 6. `ANOVA (Analysis of Variance)`\n",
    "### ANOVA (Analysis of Variance)\n",
    "\n",
    "#### `Explanation`: Imagine you have three different jars of candies, and you want to check if the average number of candies in each jar is the same. ANOVA helps you compare the means of three or more groups to see if they are significantly different."
   ]
  },
  {
   "cell_type": "code",
   "execution_count": 11,
   "metadata": {},
   "outputs": [
    {
     "name": "stdout",
     "output_type": "stream",
     "text": [
      "F-statistic: 0.9798657718120801, P-value: 0.4034828473781218\n"
     ]
    }
   ],
   "source": [
    "# One-way ANOVA\n",
    "group1 = [2.3, 2.5, 2.8, 3.0, 3.2]\n",
    "group2 = [2.1, 2.4, 2.6, 2.9, 3.1]\n",
    "group3 = [1.9, 2.2, 2.4, 2.7, 2.9]\n",
    "\n",
    "f_stat, p_value = stats.f_oneway(group1, group2, group3)\n",
    "print(f\"F-statistic: {f_stat}, P-value: {p_value}\")\n"
   ]
  },
  {
   "cell_type": "markdown",
   "metadata": {},
   "source": [
    "## `Assumptions Of ANOVA`\n",
    "\n",
    "### `Explanation`: ANOVA assumes:\n",
    "\n",
    "#### The samples are independent.\n",
    "#### The data is normally distributed.\n",
    "#### The variances are equal across groups.\n",
    "#### These assumptions ensure the validity of the ANOVA results.\n",
    "\n",
    "### `Types Of ANOVA`\n",
    "\n",
    "### Explanation:\n",
    "\n",
    "#### `One-way ANOVA`: Tests differences between groups based on one factor (e.g., different jars of candies).\n",
    "#### `Two-way ANOVA`: Tests differences based on two factors (e.g., different jars and different types of candies).\n"
   ]
  },
  {
   "cell_type": "code",
   "execution_count": 12,
   "metadata": {},
   "outputs": [
    {
     "name": "stdout",
     "output_type": "stream",
     "text": [
      "Requirement already satisfied: statsmodels in e:\\codes\\.venv\\lib\\site-packages (0.14.2)\n",
      "Requirement already satisfied: numpy>=1.22.3 in e:\\codes\\.venv\\lib\\site-packages (from statsmodels) (2.0.1)\n",
      "Requirement already satisfied: scipy!=1.9.2,>=1.8 in e:\\codes\\.venv\\lib\\site-packages (from statsmodels) (1.14.1)\n",
      "Requirement already satisfied: pandas!=2.1.0,>=1.4 in e:\\codes\\.venv\\lib\\site-packages (from statsmodels) (2.2.2)\n",
      "Requirement already satisfied: patsy>=0.5.6 in e:\\codes\\.venv\\lib\\site-packages (from statsmodels) (0.5.6)\n",
      "Requirement already satisfied: packaging>=21.3 in e:\\codes\\.venv\\lib\\site-packages (from statsmodels) (24.1)\n",
      "Requirement already satisfied: python-dateutil>=2.8.2 in e:\\codes\\.venv\\lib\\site-packages (from pandas!=2.1.0,>=1.4->statsmodels) (2.9.0.post0)\n",
      "Requirement already satisfied: pytz>=2020.1 in e:\\codes\\.venv\\lib\\site-packages (from pandas!=2.1.0,>=1.4->statsmodels) (2024.1)\n",
      "Requirement already satisfied: tzdata>=2022.7 in e:\\codes\\.venv\\lib\\site-packages (from pandas!=2.1.0,>=1.4->statsmodels) (2024.1)\n",
      "Requirement already satisfied: six in e:\\codes\\.venv\\lib\\site-packages (from patsy>=0.5.6->statsmodels) (1.16.0)\n",
      "Note: you may need to restart the kernel to use updated packages.\n"
     ]
    }
   ],
   "source": [
    "%pip install statsmodels"
   ]
  },
  {
   "cell_type": "code",
   "execution_count": 13,
   "metadata": {},
   "outputs": [
    {
     "name": "stdout",
     "output_type": "stream",
     "text": [
      "                  sum_sq    df         F    PR(>F)\n",
      "C(group)             NaN   2.0       NaN       NaN\n",
      "C(type)              NaN   2.0       NaN       NaN\n",
      "C(group):C(type)   0.584   4.0  0.979866  0.403483\n",
      "Residual           1.788  12.0       NaN       NaN\n"
     ]
    },
    {
     "name": "stderr",
     "output_type": "stream",
     "text": [
      "e:\\Codes\\.venv\\Lib\\site-packages\\statsmodels\\base\\model.py:1894: ValueWarning: covariance of constraints does not have full rank. The number of constraints is 2, but rank is 0\n",
      "  warnings.warn('covariance of constraints does not have full '\n",
      "e:\\Codes\\.venv\\Lib\\site-packages\\statsmodels\\base\\model.py:1923: RuntimeWarning: invalid value encountered in divide\n",
      "  F /= J\n",
      "e:\\Codes\\.venv\\Lib\\site-packages\\statsmodels\\base\\model.py:1894: ValueWarning: covariance of constraints does not have full rank. The number of constraints is 2, but rank is 0\n",
      "  warnings.warn('covariance of constraints does not have full '\n",
      "e:\\Codes\\.venv\\Lib\\site-packages\\statsmodels\\base\\model.py:1894: ValueWarning: covariance of constraints does not have full rank. The number of constraints is 4, but rank is 2\n",
      "  warnings.warn('covariance of constraints does not have full '\n"
     ]
    }
   ],
   "source": [
    "# Two-way ANOVA example using statsmodels\n",
    "import statsmodels.api as sm\n",
    "from statsmodels.formula.api import ols\n",
    "import pandas as pd\n",
    "\n",
    "# Example data\n",
    "data = {\n",
    "    'value': [2.3, 2.5, 2.8, 3.0, 3.2, 2.1, 2.4, 2.6, 2.9, 3.1, 1.9, 2.2, 2.4, 2.7, 2.9],\n",
    "    'group': ['A', 'A', 'A', 'A', 'A', 'B', 'B', 'B', 'B', 'B', 'C', 'C', 'C', 'C', 'C'],\n",
    "    'type': ['X', 'X', 'X', 'X', 'X', 'Y', 'Y', 'Y', 'Y', 'Y', 'Z', 'Z', 'Z', 'Z', 'Z']\n",
    "}\n",
    "\n",
    "# Create a DataFrame\n",
    "df = pd.DataFrame(data)\n",
    "\n",
    "# Fit the model\n",
    "model = ols('value ~ C(group) + C(type) + C(group):C(type)', data=df).fit()\n",
    "anova_table = sm.stats.anova_lm(model, typ=2)\n",
    "print(anova_table)\n"
   ]
  }
 ],
 "metadata": {
  "kernelspec": {
   "display_name": ".venv",
   "language": "python",
   "name": "python3"
  },
  "language_info": {
   "codemirror_mode": {
    "name": "ipython",
    "version": 3
   },
   "file_extension": ".py",
   "mimetype": "text/x-python",
   "name": "python",
   "nbconvert_exporter": "python",
   "pygments_lexer": "ipython3",
   "version": "3.11.9"
  }
 },
 "nbformat": 4,
 "nbformat_minor": 2
}
