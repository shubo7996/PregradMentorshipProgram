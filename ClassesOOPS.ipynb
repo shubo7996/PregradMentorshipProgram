{
 "cells": [
  {
   "cell_type": "markdown",
   "metadata": {},
   "source": [
    "\n",
    "\n",
    "## Introduction to Object-Oriented Programming\n",
    "### `Concept`: Object-Oriented Programming (OOP) is a programming paradigm that uses \"objects\" to design applications and programs. Objects can be seen as real-world entities, having attributes (data) and methods (functions)\n",
    "\n",
    "### `Features`:\n",
    "\n",
    "#### 1 `Inheritance`\n",
    "#### 2.`Polymorphism`\n",
    "#### 3.`Encapsulation`\n",
    "#### 4.`Abstractions`\n",
    "\n",
    "\n",
    "#### `Scenario`: Imagine a car rental system. Each car is an object with attributes like make, model, year, and methods like start, stop, and rent\n"
   ]
  },
  {
   "cell_type": "code",
   "execution_count": null,
   "metadata": {},
   "outputs": [],
   "source": [
    "# Class Insrtrument:\n",
    "\n",
    "#     def how_to_play():\n",
    "#     def keyOrStrings()\n",
    "\n",
    "# piano=\n",
    "# guitar="
   ]
  },
  {
   "cell_type": "markdown",
   "metadata": {},
   "source": [
    "\n",
    "\n",
    "## Defining a `Class`\n",
    "#### `Concept`: A class is a blueprint for creating objects. It defines a set of attributes and methods that the objects created from the class can have.\n",
    "\n",
    "##### `Keyword`: \n",
    "\n",
    "##### 1. `__init__`\n",
    "\n",
    "##### In Python, the __init__ method is a special method known as a constructor. It is automatically called when an instance (object) of the class is created. The primary purpose of the __init__ method is to initialize the instance's attributes with values provided during the creation of the object.\n",
    "##### Initialization: The __init__ method allows you to initialize the object's attributes with initial values.\n",
    "\n",
    "\n",
    "##### 2. `Self`: The first parameter of __init__ is always self, which refers to the instance being created."
   ]
  },
  {
   "cell_type": "code",
   "execution_count": 18,
   "metadata": {},
   "outputs": [],
   "source": [
    "class Car:\n",
    "    \n",
    "    def __init__(self, make: str, model: str, year: str):\n",
    "        self.make = make\n",
    "        self.model = model\n",
    "        self.year = year\n",
    "\n",
    "    def start(self):\n",
    "        print(f\"{self.make} {self.model} is starting.\")\n",
    "\n",
    "    def stop(self):\n",
    "        print(f\"{self.make} {self.model} is stopping.\")\n"
   ]
  },
  {
   "cell_type": "code",
   "execution_count": null,
   "metadata": {},
   "outputs": [],
   "source": [
    "# class Human:\n",
    "\n",
    "#     def __init__(self, name, age, gender):\n",
    "#         self.name = name\n",
    "#         self.age = age\n",
    "#         self.gender = gender\n",
    "\n",
    "# students=Human()\n",
    "# officeWorker=Human()\n",
    "# Parents=Human()\n"
   ]
  },
  {
   "cell_type": "markdown",
   "metadata": {},
   "source": [
    "\n",
    "\n",
    "## Creating `Objects`\n",
    "### `Concept`: An object is an instance of a class. You can create multiple objects from the same class.\n",
    "\n",
    "#### `Scenario`: Let's create two car objects."
   ]
  },
  {
   "cell_type": "code",
   "execution_count": 8,
   "metadata": {},
   "outputs": [
    {
     "name": "stdout",
     "output_type": "stream",
     "text": [
      "Toyota Camry is starting.\n",
      "Toyota Camry is stopping.\n",
      "Honda Accord is starting.\n",
      "Honda Accord is stopping.\n"
     ]
    }
   ],
   "source": [
    "car1 = Car(\"Toyota\", \"Camry\", 2020)\n",
    "car2 = Car(\"Honda\", \"Accord\", 2019)\n",
    "\n",
    "car1.start()  \n",
    "car1.stop()\n",
    "\n",
    "car2.start()\n",
    "car2.stop()"
   ]
  },
  {
   "cell_type": "markdown",
   "metadata": {},
   "source": [
    "\n",
    "\n",
    "\n",
    "## Attributes and Methods\n",
    "### `Concept`: Attributes are the variables that belong to a class, and methods are the functions that belong to a class.\n",
    "\n",
    "#### `Scenario`: Let's add a new attribute is_rented and a method rent to our Car class."
   ]
  },
  {
   "cell_type": "code",
   "execution_count": 16,
   "metadata": {},
   "outputs": [
    {
     "name": "stdout",
     "output_type": "stream",
     "text": [
      "Toyota Camry charges at 510Kw.\n"
     ]
    }
   ],
   "source": [
    "class Car:\n",
    "    def __init__(self, make, model, year,is_rented=False):\n",
    "        self.make = make\n",
    "        self.model = model\n",
    "        self.year = year\n",
    "        self.is_rented = is_rented\n",
    "\n",
    "    def start(self):\n",
    "        print(f\"{self.make} {self.model} is starting.\")\n",
    "\n",
    "    def stop(self):\n",
    "        print(f\"{self.make} {self.model} is stopping.\")\n",
    "\n",
    "    def charge(self,cap):\n",
    "        print(f\"{self.make} {self.model} charges at {cap}Kw.\")\n",
    "\n",
    "    def rent(self):\n",
    "        if not self.is_rented:\n",
    "            self.is_rented = True\n",
    "            print(f\"{self.make} {self.model} has been rented.\")\n",
    "        else:\n",
    "            print(f\"{self.make} {self.model} is already rented.\")\n",
    "\n",
    "\n",
    "car1 = Car(\"Toyota\", \"Camry\", 2020, is_rented=True)\n",
    "\n",
    "#car1.rent()\n",
    "car1.charge(cap=510)"
   ]
  },
  {
   "cell_type": "markdown",
   "metadata": {},
   "source": [
    "\n",
    "\n",
    "##  `Inheritance`\n",
    "### `Concept`: Inheritance allows a class to inherit attributes and methods from another class. This promotes code reuse.\n",
    "\n",
    "#### `Scenario`: Imagine we have a new type of car, an ElectricCar, which has an additional attribute battery_capacity.\n",
    "\n",
    "#####  `Keyword`\n",
    "####   `1. super()`\n",
    "#### The super() function in Python is used to give you access to methods and properties of a parent or sibling class. The super() function returns an object that represents the parent class. It is particularly useful in inheritance, where you want to call a method from a parent class in a child class."
   ]
  },
  {
   "cell_type": "code",
   "execution_count": 30,
   "metadata": {},
   "outputs": [],
   "source": [
    "\n",
    "#ElectricCar is a child class. Car is a parent class.\n",
    "# Child always inherits from Parents.\n",
    "\n",
    "#ElectricCar is inheriting attributes from the parent.\n",
    "\n",
    "class ElectricCar(Car):\n",
    "    def __init__(self, make, model, year, battery_capacity):\n",
    "        super().__init__(make, model, year) #this set of attributes comes from parent class\n",
    "        self.battery_capacity = battery_capacity #this attribute is exclusive to the child class\n",
    "\n",
    "    def info(self): #this method is exclusive to my child class\n",
    "        print(f\"{self.make} {self.model} has {self.battery_capacity}KW\")\n"
   ]
  },
  {
   "cell_type": "code",
   "execution_count": 31,
   "metadata": {},
   "outputs": [],
   "source": [
    "tesla=ElectricCar(make='tesla',model='Model S', year=2021, battery_capacity=510)"
   ]
  },
  {
   "cell_type": "code",
   "execution_count": 32,
   "metadata": {},
   "outputs": [
    {
     "name": "stdout",
     "output_type": "stream",
     "text": [
      "tesla Model S has 510KW\n"
     ]
    }
   ],
   "source": [
    "tesla.info()"
   ]
  },
  {
   "cell_type": "markdown",
   "metadata": {},
   "source": [
    "\n",
    "\n",
    "## `Polymorphism`\n",
    "### `Concept`: Polymorphism allows methods to be used interchangeably between different classes that share the same method names.\n",
    "\n",
    "#### `Scenario`: Both Car and ElectricCar have a start method, but they can be called on their respective instances.\n"
   ]
  },
  {
   "cell_type": "code",
   "execution_count": 42,
   "metadata": {},
   "outputs": [],
   "source": [
    "class ElectricCar(Car):\n",
    "    def __init__(self, make, model, year, battery_capacity):\n",
    "        super().__init__(make, model, year)\n",
    "        self.battery_capacity = battery_capacity\n",
    "\n",
    "    def charge(self, is_charging=False):\n",
    "        super().charge(cap=510)\n",
    "        if not is_charging:\n",
    "            is_charging=True\n",
    "            print('My car is charging now!')\n",
    "        print(f\"{self.make} {self.model} is charging its {self.battery_capacity}kWh battery.\")\n",
    "\n",
    "        "
   ]
  },
  {
   "cell_type": "code",
   "execution_count": 43,
   "metadata": {},
   "outputs": [],
   "source": [
    "#method overriding and method overloading"
   ]
  },
  {
   "cell_type": "code",
   "execution_count": 44,
   "metadata": {},
   "outputs": [
    {
     "name": "stdout",
     "output_type": "stream",
     "text": [
      "tesla Model S charges at 510Kw.\n",
      "My car is charging now!\n",
      "tesla Model S is charging its 510kWh battery.\n"
     ]
    }
   ],
   "source": [
    "tesla=ElectricCar(make='tesla',model='Model S', year=2021, battery_capacity=510)\n",
    "tesla.charge()"
   ]
  },
  {
   "cell_type": "markdown",
   "metadata": {},
   "source": [
    "\n",
    "\n",
    "## `Encapsulation`\n",
    "### `Concept`: Encapsulation is the concept of `restricting access` to certain attributes and methods, usually by making them private.\n",
    "\n",
    "### `Scenario`: Let's make the is_rented attribute private and provide methods to access it.\n",
    "\n"
   ]
  },
  {
   "cell_type": "code",
   "execution_count": 67,
   "metadata": {},
   "outputs": [
    {
     "data": {
      "text/plain": [
       "False"
      ]
     },
     "execution_count": 67,
     "metadata": {},
     "output_type": "execute_result"
    }
   ],
   "source": [
    "class Car:\n",
    "    def __init__(self, make, model, year):\n",
    "        #setter function\n",
    "        self.__make = make #private\n",
    "        self.model = model #public attribute\n",
    "        self.year = year # public attributes\n",
    "        self.__is_rented = False #private attribute\n",
    "\n",
    "    def start(self):\n",
    "        print(f\"{self.make} {self.model} is starting.\")\n",
    "\n",
    "    def stop(self):\n",
    "        print(f\"{self.make} {self.model} is stopping.\")\n",
    "\n",
    "    def rent(self):\n",
    "        if not self.__is_rented:\n",
    "            self.__is_rented = True\n",
    "            print(f\"{self.__make} {self.model} has been rented.\")\n",
    "        else:\n",
    "            print(f\"{self.__make} {self.model} is already rented.\")\n",
    "\n",
    "    #getter for rent\n",
    "    def is_rented(self):\n",
    "        return self.__is_rented\n",
    "    #getter for make\n",
    "    def getMake(self):\n",
    "        return self.__make\n",
    "\n",
    "car1 = Car(\"Toyota\", \"Camry\", 2020)\n",
    "\n",
    "car1.is_rented()"
   ]
  },
  {
   "cell_type": "code",
   "execution_count": 68,
   "metadata": {},
   "outputs": [
    {
     "name": "stdout",
     "output_type": "stream",
     "text": [
      "Toyota Camry has been rented.\n"
     ]
    }
   ],
   "source": [
    "car1.rent()"
   ]
  },
  {
   "cell_type": "code",
   "execution_count": null,
   "metadata": {},
   "outputs": [],
   "source": [
    "#c#, Java\n",
    "\n",
    "#getter: gets the value of the class attribute\n",
    "#setter: Sets the value of the class parameter/attribute\n",
    "\n",
    "\n",
    "#Parametres are variable that we pass in a function\n",
    "#attributes are the parameters of the class"
   ]
  },
  {
   "cell_type": "code",
   "execution_count": 51,
   "metadata": {},
   "outputs": [
    {
     "data": {
      "text/plain": [
       "False"
      ]
     },
     "execution_count": 51,
     "metadata": {},
     "output_type": "execute_result"
    }
   ],
   "source": [
    "car1.is_rented()"
   ]
  },
  {
   "cell_type": "markdown",
   "metadata": {},
   "source": [
    "## Abstraction\n",
    "### `Concept`: Abstraction in object-oriented programming is the concept of hiding the complex implementation details and showing only the necessary features of an object. This helps in reducing programming complexity and effort. It focuses on what an object does rather than how it does it."
   ]
  },
  {
   "cell_type": "code",
   "execution_count": 58,
   "metadata": {},
   "outputs": [],
   "source": [
    "from abc import ABC, abstractmethod\n",
    "\n",
    "#Parent Class\n",
    "class Car(ABC):\n",
    "    \n",
    "    #Abstract Method\n",
    "    @abstractmethod\n",
    "    def color(self):\n",
    "        pass\n",
    "\n",
    "class Electric(Car):\n",
    "    \n",
    "    def color(self):\n",
    "        print(\"Yellow\")\n",
    "\n",
    "class Diesel(Car):\n",
    "    \n",
    "    def color(self,a,b):\n",
    "        _add=a+b\n",
    "        print(_add)\n",
    "        print(\"Red\")"
   ]
  },
  {
   "cell_type": "code",
   "execution_count": null,
   "metadata": {},
   "outputs": [],
   "source": [
    "# #java--> Interfaces\n",
    "\n",
    "# Class MusicPlayer:\n",
    "\n",
    "#     interface Iplayer_UI \n",
    "\n",
    "\n",
    "# class sonyMusciplayer(MusicPlayer)\n",
    "    \n",
    "#     def Iplayer_UI:\n",
    "#         print('xyz')"
   ]
  },
  {
   "cell_type": "code",
   "execution_count": 59,
   "metadata": {},
   "outputs": [
    {
     "name": "stdout",
     "output_type": "stream",
     "text": [
      "Yellow\n",
      "11\n",
      "Red\n"
     ]
    }
   ],
   "source": [
    "e=Electric()\n",
    "d=Diesel()\n",
    "\n",
    "e.color()\n",
    "\n",
    "d.color(a=4,b=7)"
   ]
  },
  {
   "cell_type": "code",
   "execution_count": 72,
   "metadata": {},
   "outputs": [
    {
     "name": "stdout",
     "output_type": "stream",
     "text": [
      "11\n",
      "8\n"
     ]
    }
   ],
   "source": [
    "from manipulateData import add,subtract,multiply\n",
    "\n",
    "add_numbers=add(5,6)\n",
    "print(add_numbers)\n",
    "\n",
    "subtract_numbers=subtract(10,2)\n",
    "print(subtract_numbers)\n"
   ]
  },
  {
   "cell_type": "code",
   "execution_count": null,
   "metadata": {},
   "outputs": [],
   "source": []
  }
 ],
 "metadata": {
  "kernelspec": {
   "display_name": "Python 3",
   "language": "python",
   "name": "python3"
  },
  "language_info": {
   "codemirror_mode": {
    "name": "ipython",
    "version": 3
   },
   "file_extension": ".py",
   "mimetype": "text/x-python",
   "name": "python",
   "nbconvert_exporter": "python",
   "pygments_lexer": "ipython3",
   "version": "3.11.2"
  }
 },
 "nbformat": 4,
 "nbformat_minor": 2
}
