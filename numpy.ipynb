{
 "cells": [
  {
   "cell_type": "markdown",
   "metadata": {},
   "source": [
    "## Introduction to `NumPy`\n",
    "NumPy, short for Numerical Python, is a powerful library for numerical computing in Python. It provides support for arrays, matrices, and many mathematical functions."
   ]
  },
  {
   "cell_type": "markdown",
   "metadata": {},
   "source": [
    "#### Step 1: Installation and Importing\n"
   ]
  },
  {
   "cell_type": "code",
   "execution_count": 1,
   "metadata": {},
   "outputs": [
    {
     "name": "stdout",
     "output_type": "stream",
     "text": [
      "Requirement already satisfied: numpy in e:\\codes\\.venv\\lib\\site-packages (2.0.1)\n",
      "Note: you may need to restart the kernel to use updated packages.\n"
     ]
    }
   ],
   "source": [
    "%pip install numpy"
   ]
  },
  {
   "cell_type": "code",
   "execution_count": 4,
   "metadata": {},
   "outputs": [],
   "source": [
    "import numpy as np"
   ]
  },
  {
   "cell_type": "code",
   "execution_count": 5,
   "metadata": {},
   "outputs": [
    {
     "data": {
      "text/plain": [
       "'2.0.1'"
      ]
     },
     "execution_count": 5,
     "metadata": {},
     "output_type": "execute_result"
    }
   ],
   "source": [
    "# [3,4,5,6] #1D array\n",
    "\n",
    "# [[3,4,5],[6,8,9]] #2D Array\n",
    "\n",
    "# [[],[],[]] #3D ARRAY\n",
    "\n",
    "np.__version__"
   ]
  },
  {
   "cell_type": "markdown",
   "metadata": {},
   "source": [
    "#### Step 2: Creating Arrays\n",
    "Scenario: Imagine you need to create arrays to store data for analysis, such as a list of temperatures over a week."
   ]
  },
  {
   "cell_type": "code",
   "execution_count": 8,
   "metadata": {},
   "outputs": [
    {
     "data": {
      "text/plain": [
       "numpy.ndarray"
      ]
     },
     "execution_count": 8,
     "metadata": {},
     "output_type": "execute_result"
    }
   ],
   "source": [
    "#1D Array\n",
    "\n",
    "temp_list=[23, 25, 19, 22, 30, 28, 24]\n",
    "temperatures = np.array(temp_list)\n",
    "print(temperatures)\n",
    "\n",
    "\n",
    "type(temperatures)"
   ]
  },
  {
   "cell_type": "code",
   "execution_count": 9,
   "metadata": {},
   "outputs": [
    {
     "name": "stdout",
     "output_type": "stream",
     "text": [
      "[[1 2 3]\n",
      " [4 5 6]\n",
      " [7 8 9]]\n"
     ]
    }
   ],
   "source": [
    "#2D Array\n",
    "\n",
    "matrix = np.array([[1, 2, 3], [4, 5, 6], [7, 8, 9]])\n",
    "print(matrix)\n",
    "\n",
    "#np.shape(matrix)"
   ]
  },
  {
   "cell_type": "code",
   "execution_count": 11,
   "metadata": {},
   "outputs": [
    {
     "name": "stdout",
     "output_type": "stream",
     "text": [
      "[[0. 0. 0.]\n",
      " [0. 0. 0.]\n",
      " [0. 0. 0.]]\n",
      "[[1. 1. 1. 1.]\n",
      " [1. 1. 1. 1.]]\n"
     ]
    }
   ],
   "source": [
    "#Zeros and Ones Arrays:\n",
    "\n",
    "# Linear Algebra \n",
    "# Calculus\n",
    "# Probablity\n",
    "\n",
    "import math\n",
    "\n",
    "zeros_array = np.zeros((3, 3)) #(n,n)\n",
    "ones_array = np.ones((2, 4))\n",
    "print(zeros_array)\n",
    "print(ones_array)\n"
   ]
  },
  {
   "cell_type": "markdown",
   "metadata": {},
   "source": [
    "#### Step 3: Array Operations\n",
    "Scenario: You have two arrays representing the sales of two products over a week. You want to perform basic arithmetic operations to analyze the sales data."
   ]
  },
  {
   "cell_type": "code",
   "execution_count": 14,
   "metadata": {},
   "outputs": [
    {
     "name": "stdout",
     "output_type": "stream",
     "text": [
      "[ 15  35  55  75  95 115 130]\n",
      "[ 5  5  5  5  5  5 10]\n",
      "[  50  300  750 1400 2250 3300 4200]\n",
      "[2.         1.33333333 1.2        1.14285714 1.11111111 1.09090909\n",
      " 1.16666667]\n"
     ]
    }
   ],
   "source": [
    "product1_sales = np.array([10, 20, 30, 40, 50, 60, 70]) #7\n",
    "product2_sales = np.array([5, 15, 25, 35, 45, 55, 60]) #6\n",
    "\n",
    "# Addition\n",
    "total_sales = product1_sales + product2_sales\n",
    "print(total_sales)\n",
    "\n",
    "# Subtraction\n",
    "sales_diff = product1_sales - product2_sales\n",
    "print(sales_diff)\n",
    "\n",
    "# Multiplication\n",
    "sales_mult = product1_sales * product2_sales\n",
    "print(sales_mult)\n",
    "\n",
    "# Division\n",
    "sales_div = product1_sales / product2_sales\n",
    "print(sales_div)\n"
   ]
  },
  {
   "cell_type": "markdown",
   "metadata": {},
   "source": [
    "#### Step 4: Statistical Operations\n",
    "Scenario: You have collected students' scores in a test and want to calculate statistical data like mean, median, and standard deviation"
   ]
  },
  {
   "cell_type": "code",
   "execution_count": 15,
   "metadata": {},
   "outputs": [
    {
     "name": "stdout",
     "output_type": "stream",
     "text": [
      "Mean Score: 86.625\n",
      "Median Score: 88.5\n",
      "Standard Deviation: 6.203577596838779\n"
     ]
    }
   ],
   "source": [
    "scores = np.array([85, 90, 78, 92, 88, 76, 95, 89])\n",
    "\n",
    "# Mean\n",
    "mean_score = np.mean(scores)\n",
    "print(\"Mean Score:\", mean_score)\n",
    "\n",
    "# Median\n",
    "median_score = np.median(scores)\n",
    "print(\"Median Score:\", median_score)\n",
    "\n",
    "# Standard Deviation\n",
    "std_deviation = np.std(scores)\n",
    "print(\"Standard Deviation:\", std_deviation)\n"
   ]
  },
  {
   "cell_type": "code",
   "execution_count": 41,
   "metadata": {},
   "outputs": [
    {
     "data": {
      "text/plain": [
       "array([[ 0,  1,  2,  3,  4,  5],\n",
       "       [ 6,  7,  8,  9, 10, 11],\n",
       "       [12, 13, 14, 15, 16, 17],\n",
       "       [18, 19, 20, 21, 22, 23],\n",
       "       [24, 25, 26, 27, 28, 29]])"
      ]
     },
     "execution_count": 41,
     "metadata": {},
     "output_type": "execute_result"
    }
   ],
   "source": [
    "scores =  np.array([[85, 90, 78, 92, 88, 76, 95, 89],[85, 90, 78, 92, 88, 76, 95, 89]]) \n",
    "\n",
    "#2 rows, 8 columns\n",
    "scores.shape #1st parameter tells you about the dimensionality and 2nd Parameter tells you about the number of elemnts contained in the list.\n",
    "\n",
    "#student_id, course_id\n",
    "#Rows tell you about the number of data entry\n",
    "#Columns tell you about parameters of the data.\n",
    "\n",
    "[\n",
    " [85, 90, 78, 92, 88, 76, 95, 89],\n",
    " [85, 90, 78, 92, 88, 76, 95, 89]\n",
    "                                     ]\n",
    "\n",
    "\n",
    "\n",
    "# Create Matrices using Arange and Reshape\n",
    "\n",
    "#np.arange(10).reshape(10,1)\n",
    "\n",
    "np.arange(30).reshape(5,6) #reshape-->n1*n2==>\n",
    "\n"
   ]
  },
  {
   "cell_type": "markdown",
   "metadata": {},
   "source": [
    "#### Step 5: Indexing and Slicing\n",
    "Scenario: You want to extract specific data from an array, such as temperatures on the first three days of the week."
   ]
  },
  {
   "cell_type": "code",
   "execution_count": 45,
   "metadata": {},
   "outputs": [
    {
     "data": {
      "text/plain": [
       "[78, 92, 88, 76]"
      ]
     },
     "execution_count": 45,
     "metadata": {},
     "output_type": "execute_result"
    }
   ],
   "source": [
    "_list=[85, 90, 78, 92, 88, 76, 95, 89]\n",
    "\n",
    "_list[2:6] #n1:n2-1"
   ]
  },
  {
   "cell_type": "code",
   "execution_count": 52,
   "metadata": {},
   "outputs": [
    {
     "name": "stdout",
     "output_type": "stream",
     "text": [
      "[[ 0  1  2  3  4  5]\n",
      " [ 6  7  8  9 10 11]\n",
      " [12 13 14 15 16 17]\n",
      " [18 19 20 21 22 23]\n",
      " [24 25 26 27 28 29]]\n"
     ]
    },
    {
     "data": {
      "text/plain": [
       "array([[15, 16, 17],\n",
       "       [21, 22, 23]])"
      ]
     },
     "execution_count": 52,
     "metadata": {},
     "output_type": "execute_result"
    }
   ],
   "source": [
    "# temperatures = np.array([23, 25, 19, 22, 30, 28, 24])\n",
    "\n",
    "# # Indexing\n",
    "# first_day_temp = temperatures[0]\n",
    "# print(\"Temperature on first day:\", first_day_temp)\n",
    "\n",
    "# # Slicing\n",
    "# first_three_days_temp = temperatures[:3]\n",
    "# print(\"Temperatures on first three days:\", first_three_days_temp)\n",
    "\n",
    "#5\n",
    "#Index begins at 0...4\n",
    "nArray=np.arange(30).reshape(5,6)\n",
    "print(nArray)\n",
    "\n",
    "\n",
    "#1st part: Slice rows\n",
    "#2nd part: Slice elemnets inside the list\n",
    "nArray[2:4,3:]\n"
   ]
  },
  {
   "cell_type": "markdown",
   "metadata": {},
   "source": [
    "#### Step 6: Reshaping Arrays\n",
    "Scenario: You have a linear array of 12 elements and want to reshape it into a 3x4 matrix for easier analysis."
   ]
  },
  {
   "cell_type": "code",
   "execution_count": 63,
   "metadata": {},
   "outputs": [
    {
     "name": "stdout",
     "output_type": "stream",
     "text": [
      "[[ 0  1  2  3  4  5  6  7  8  9 10 11 12 13 14 15 16]]\n"
     ]
    }
   ],
   "source": [
    "linear_array = np.arange(17) #1,17\n",
    "matrix_3x4 = linear_array.reshape((1,17))\n",
    "print(matrix_3x4)\n",
    "\n",
    "#np.diagnal()"
   ]
  },
  {
   "cell_type": "markdown",
   "metadata": {},
   "source": [
    "#### Step 7: Concatenation and Splitting\n",
    "Scenario: You need to combine sales data from two weeks or split it into daily and weekly data."
   ]
  },
  {
   "cell_type": "code",
   "execution_count": 13,
   "metadata": {},
   "outputs": [
    {
     "name": "stdout",
     "output_type": "stream",
     "text": [
      "[10 20 30 40 50 60 70 15 25 35 45 55 65 75]\n"
     ]
    }
   ],
   "source": [
    "#Concatenation\n",
    "\n",
    "week1_sales = np.array([10, 20, 30, 40, 50, 60, 70])\n",
    "week2_sales = np.array([15, 25, 35, 45, 55, 65, 75])\n",
    "\n",
    "total_sales = np.concatenate((week1_sales, week2_sales))\n",
    "print(total_sales)\n"
   ]
  },
  {
   "cell_type": "code",
   "execution_count": 65,
   "metadata": {},
   "outputs": [],
   "source": [
    "#splitting\n",
    "\n",
    "daily_sales = np.array([10, 20, 30, 40, 50, 60, 70, 15, 25, 35, 45, 55, 65, 75])\n",
    "week1_sales, week2_sales = np.split(daily_sales, 2)\n",
    "print(\"Week 1 Sales:\", week1_sales)\n",
    "print(\"Week 2 Sales:\", week2_sales)\n"
   ]
  },
  {
   "cell_type": "markdown",
   "metadata": {},
   "source": [
    "#### Step 8: Broadcasting\n",
    "Scenario: You want to increase all temperatures by 2 degrees for a week."
   ]
  },
  {
   "cell_type": "code",
   "execution_count": 15,
   "metadata": {},
   "outputs": [
    {
     "name": "stdout",
     "output_type": "stream",
     "text": [
      "Updated Temperatures: [25 27 21 24 32 30 26]\n"
     ]
    }
   ],
   "source": [
    "temperatures = np.array([23, 25, 19, 22, 30, 28, 24])\n",
    "temperatures += 2\n",
    "print(\"Updated Temperatures:\", temperatures)\n"
   ]
  },
  {
   "cell_type": "markdown",
   "metadata": {},
   "source": [
    "#### Step 9: Advanced Operations\n",
    "Scenario: You have data for two matrices representing different datasets and want to perform matrix multiplication."
   ]
  },
  {
   "cell_type": "code",
   "execution_count": 68,
   "metadata": {},
   "outputs": [
    {
     "name": "stdout",
     "output_type": "stream",
     "text": [
      "[[19 22]\n",
      " [43 50]]\n"
     ]
    }
   ],
   "source": [
    "matrix1 = np.array([[1, 2], [3, 4]])\n",
    "matrix2 = np.array([[5, 6], [7, 8]])\n",
    "\n",
    "result = np.dot(matrix1, matrix2)\n",
    "print(result)\n"
   ]
  },
  {
   "cell_type": "markdown",
   "metadata": {},
   "source": [
    "## `Important NumPy Methods`\n",
    "\n",
    "\n",
    "###### `np.arange(start, stop, step)` - Returns evenly spaced values within a given interval.\n",
    "###### `np.linspace(start, stop, num)` - Returns evenly spaced numbers over a specified interval.\n",
    "###### `np.random.rand(d0, d1, ..., dn)` - Generates random numbers.\n",
    "###### `np.sum(array)` - Sum of array elements.\n",
    "###### `np.max(array)` - Maximum value of array elements.\n",
    "###### `np.min(array)` - Minimum value of array elements.\n",
    "###### `np.argmax(array)` - Indices of the maximum values.\n",
    "###### `np.argmin(array)` - Indices of the minimum values.\n",
    "###### `np.unique(array)` - Find the unique elements of an array.\n",
    "###### `np.transpose(array)` - Permute the dimensions of an array.\n",
    "\n",
    "\n",
    "## `Conclusion`\n",
    "\n",
    "##### This tutorial provides a comprehensive overview of NumPy's capabilities. Practice these examples and scenarios to get a solid understanding of how NumPy can be used in various data analysis tasks. Encourage students to experiment with the code and come up with their own scenarios for a deeper understanding."
   ]
  },
  {
   "cell_type": "markdown",
   "metadata": {},
   "source": [
    "## `Calculate The Correlation of a Matrix`.\n",
    "\n"
   ]
  },
  {
   "cell_type": "markdown",
   "metadata": {},
   "source": []
  }
 ],
 "metadata": {
  "kernelspec": {
   "display_name": "tutor",
   "language": "python",
   "name": "python3"
  },
  "language_info": {
   "codemirror_mode": {
    "name": "ipython",
    "version": 3
   },
   "file_extension": ".py",
   "mimetype": "text/x-python",
   "name": "python",
   "nbconvert_exporter": "python",
   "pygments_lexer": "ipython3",
   "version": "3.11.9"
  }
 },
 "nbformat": 4,
 "nbformat_minor": 2
}
