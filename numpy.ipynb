{
 "cells": [
  {
   "cell_type": "markdown",
   "metadata": {},
   "source": [
    "## Introduction to `NumPy`\n",
    "NumPy, short for Numerical Python, is a powerful library for numerical computing in Python. It provides support for arrays, matrices, and many mathematical functions."
   ]
  },
  {
   "cell_type": "markdown",
   "metadata": {},
   "source": [
    "#### Step 1: Installation and Importing\n"
   ]
  },
  {
   "cell_type": "code",
   "execution_count": 4,
   "metadata": {},
   "outputs": [
    {
     "name": "stdout",
     "output_type": "stream",
     "text": [
      "Requirement already satisfied: numpy in c:\\users\\lenovo\\onedrive\\documents\\pythoncode\\tutotials_pregrad\\tutor\\lib\\site-packages (2.0.1)\n"
     ]
    },
    {
     "name": "stderr",
     "output_type": "stream",
     "text": [
      "\n",
      "[notice] A new release of pip available: 22.3.1 -> 24.1.2\n",
      "[notice] To update, run: python.exe -m pip install --upgrade pip\n"
     ]
    }
   ],
   "source": [
    "!pip install numpy"
   ]
  },
  {
   "cell_type": "code",
   "execution_count": 5,
   "metadata": {},
   "outputs": [],
   "source": [
    "import numpy as np"
   ]
  },
  {
   "cell_type": "markdown",
   "metadata": {},
   "source": [
    "#### Step 2: Creating Arrays\n",
    "Scenario: Imagine you need to create arrays to store data for analysis, such as a list of temperatures over a week."
   ]
  },
  {
   "cell_type": "code",
   "execution_count": 6,
   "metadata": {},
   "outputs": [
    {
     "name": "stdout",
     "output_type": "stream",
     "text": [
      "[23 25 19 22 30 28 24]\n"
     ]
    }
   ],
   "source": [
    "#1D Array\n",
    "\n",
    "temperatures = np.array([23, 25, 19, 22, 30, 28, 24])\n",
    "print(temperatures)"
   ]
  },
  {
   "cell_type": "code",
   "execution_count": 19,
   "metadata": {},
   "outputs": [
    {
     "name": "stdout",
     "output_type": "stream",
     "text": [
      "[[1 2 3]\n",
      " [4 5 6]\n",
      " [7 8 9]]\n"
     ]
    }
   ],
   "source": [
    "#2D Array\n",
    "\n",
    "matrix = np.array([[1, 2, 3], [4, 5, 6], [7, 8, 9]])\n",
    "print(matrix)\n",
    "\n",
    "\n",
    "#np.shape(matrix)"
   ]
  },
  {
   "cell_type": "code",
   "execution_count": 8,
   "metadata": {},
   "outputs": [
    {
     "name": "stdout",
     "output_type": "stream",
     "text": [
      "[[0. 0. 0.]\n",
      " [0. 0. 0.]\n",
      " [0. 0. 0.]]\n",
      "[[1. 1. 1. 1.]\n",
      " [1. 1. 1. 1.]]\n"
     ]
    }
   ],
   "source": [
    "#Zeros and Ones Arrays:\n",
    "\n",
    "zeros_array = np.zeros((3, 3))\n",
    "ones_array = np.ones((2, 4))\n",
    "print(zeros_array)\n",
    "print(ones_array)\n"
   ]
  },
  {
   "cell_type": "markdown",
   "metadata": {},
   "source": [
    "#### Step 3: Array Operations\n",
    "Scenario: You have two arrays representing the sales of two products over a week. You want to perform basic arithmetic operations to analyze the sales data."
   ]
  },
  {
   "cell_type": "code",
   "execution_count": 9,
   "metadata": {},
   "outputs": [
    {
     "name": "stdout",
     "output_type": "stream",
     "text": [
      "[ 15  35  55  75  95 115 135]\n",
      "[5 5 5 5 5 5 5]\n",
      "[  50  300  750 1400 2250 3300 4550]\n",
      "[2.         1.33333333 1.2        1.14285714 1.11111111 1.09090909\n",
      " 1.07692308]\n"
     ]
    }
   ],
   "source": [
    "product1_sales = np.array([10, 20, 30, 40, 50, 60, 70])\n",
    "product2_sales = np.array([5, 15, 25, 35, 45, 55, 65])\n",
    "\n",
    "# Addition\n",
    "total_sales = product1_sales + product2_sales\n",
    "print(total_sales)\n",
    "\n",
    "# Subtraction\n",
    "sales_diff = product1_sales - product2_sales\n",
    "print(sales_diff)\n",
    "\n",
    "# Multiplication\n",
    "sales_mult = product1_sales * product2_sales\n",
    "print(sales_mult)\n",
    "\n",
    "# Division\n",
    "sales_div = product1_sales / product2_sales\n",
    "print(sales_div)\n"
   ]
  },
  {
   "cell_type": "markdown",
   "metadata": {},
   "source": [
    "#### Step 4: Statistical Operations\n",
    "Scenario: You have collected students' scores in a test and want to calculate statistical data like mean, median, and standard deviation"
   ]
  },
  {
   "cell_type": "code",
   "execution_count": 10,
   "metadata": {},
   "outputs": [
    {
     "name": "stdout",
     "output_type": "stream",
     "text": [
      "Mean Score: 86.625\n",
      "Median Score: 88.5\n",
      "Standard Deviation: 6.203577596838779\n"
     ]
    }
   ],
   "source": [
    "scores = np.array([85, 90, 78, 92, 88, 76, 95, 89])\n",
    "\n",
    "# Mean\n",
    "mean_score = np.mean(scores)\n",
    "print(\"Mean Score:\", mean_score)\n",
    "\n",
    "# Median\n",
    "median_score = np.median(scores)\n",
    "print(\"Median Score:\", median_score)\n",
    "\n",
    "# Standard Deviation\n",
    "std_deviation = np.std(scores)\n",
    "print(\"Standard Deviation:\", std_deviation)\n"
   ]
  },
  {
   "cell_type": "markdown",
   "metadata": {},
   "source": [
    "#### Step 5: Indexing and Slicing\n",
    "Scenario: You want to extract specific data from an array, such as temperatures on the first three days of the week."
   ]
  },
  {
   "cell_type": "code",
   "execution_count": 11,
   "metadata": {},
   "outputs": [
    {
     "name": "stdout",
     "output_type": "stream",
     "text": [
      "Temperature on first day: 23\n",
      "Temperatures on first three days: [23 25 19]\n"
     ]
    }
   ],
   "source": [
    "temperatures = np.array([23, 25, 19, 22, 30, 28, 24])\n",
    "\n",
    "# Indexing\n",
    "first_day_temp = temperatures[0]\n",
    "print(\"Temperature on first day:\", first_day_temp)\n",
    "\n",
    "# Slicing\n",
    "first_three_days_temp = temperatures[:3]\n",
    "print(\"Temperatures on first three days:\", first_three_days_temp)\n"
   ]
  },
  {
   "cell_type": "markdown",
   "metadata": {},
   "source": [
    "#### Step 6: Reshaping Arrays\n",
    "Scenario: You have a linear array of 12 elements and want to reshape it into a 3x4 matrix for easier analysis."
   ]
  },
  {
   "cell_type": "code",
   "execution_count": 12,
   "metadata": {},
   "outputs": [
    {
     "name": "stdout",
     "output_type": "stream",
     "text": [
      "[[ 1  2  3  4]\n",
      " [ 5  6  7  8]\n",
      " [ 9 10 11 12]]\n"
     ]
    }
   ],
   "source": [
    "linear_array = np.array([1, 2, 3, 4, 5, 6, 7, 8, 9, 10, 11, 12])\n",
    "matrix_3x4 = linear_array.reshape((3, 4))\n",
    "print(matrix_3x4)\n"
   ]
  },
  {
   "cell_type": "markdown",
   "metadata": {},
   "source": [
    "#### Step 7: Concatenation and Splitting\n",
    "Scenario: You need to combine sales data from two weeks or split it into daily and weekly data."
   ]
  },
  {
   "cell_type": "code",
   "execution_count": 13,
   "metadata": {},
   "outputs": [
    {
     "name": "stdout",
     "output_type": "stream",
     "text": [
      "[10 20 30 40 50 60 70 15 25 35 45 55 65 75]\n"
     ]
    }
   ],
   "source": [
    "#Concatenation\n",
    "\n",
    "week1_sales = np.array([10, 20, 30, 40, 50, 60, 70])\n",
    "week2_sales = np.array([15, 25, 35, 45, 55, 65, 75])\n",
    "\n",
    "total_sales = np.concatenate((week1_sales, week2_sales))\n",
    "print(total_sales)\n"
   ]
  },
  {
   "cell_type": "code",
   "execution_count": 14,
   "metadata": {},
   "outputs": [
    {
     "name": "stdout",
     "output_type": "stream",
     "text": [
      "Week 1 Sales: [10 20 30 40 50 60 70]\n",
      "Week 2 Sales: [15 25 35 45 55 65 75]\n"
     ]
    }
   ],
   "source": [
    "#splitting\n",
    "\n",
    "daily_sales = np.array([10, 20, 30, 40, 50, 60, 70, 15, 25, 35, 45, 55, 65, 75])\n",
    "week1_sales, week2_sales = np.split(daily_sales, 2)\n",
    "print(\"Week 1 Sales:\", week1_sales)\n",
    "print(\"Week 2 Sales:\", week2_sales)\n"
   ]
  },
  {
   "cell_type": "markdown",
   "metadata": {},
   "source": [
    "#### Step 8: Broadcasting\n",
    "Scenario: You want to increase all temperatures by 2 degrees for a week."
   ]
  },
  {
   "cell_type": "code",
   "execution_count": 15,
   "metadata": {},
   "outputs": [
    {
     "name": "stdout",
     "output_type": "stream",
     "text": [
      "Updated Temperatures: [25 27 21 24 32 30 26]\n"
     ]
    }
   ],
   "source": [
    "temperatures = np.array([23, 25, 19, 22, 30, 28, 24])\n",
    "temperatures += 2\n",
    "print(\"Updated Temperatures:\", temperatures)\n"
   ]
  },
  {
   "cell_type": "markdown",
   "metadata": {},
   "source": [
    "#### Step 9: Advanced Operations\n",
    "Scenario: You have data for two matrices representing different datasets and want to perform matrix multiplication."
   ]
  },
  {
   "cell_type": "code",
   "execution_count": 16,
   "metadata": {},
   "outputs": [
    {
     "name": "stdout",
     "output_type": "stream",
     "text": [
      "[[19 22]\n",
      " [43 50]]\n"
     ]
    }
   ],
   "source": [
    "matrix1 = np.array([[1, 2], [3, 4]])\n",
    "matrix2 = np.array([[5, 6], [7, 8]])\n",
    "\n",
    "result = np.dot(matrix1, matrix2)\n",
    "print(result)\n"
   ]
  },
  {
   "cell_type": "markdown",
   "metadata": {},
   "source": [
    "## `Important NumPy Methods`\n",
    "\n",
    "\n",
    "###### `np.arange(start, stop, step)` - Returns evenly spaced values within a given interval.\n",
    "###### `np.linspace(start, stop, num)` - Returns evenly spaced numbers over a specified interval.\n",
    "###### `np.random.rand(d0, d1, ..., dn)` - Generates random numbers.\n",
    "###### `np.sum(array)` - Sum of array elements.\n",
    "###### `np.max(array)` - Maximum value of array elements.\n",
    "###### `np.min(array)` - Minimum value of array elements.\n",
    "###### `np.argmax(array)` - Indices of the maximum values.\n",
    "###### `np.argmin(array)` - Indices of the minimum values.\n",
    "###### `np.unique(array)` - Find the unique elements of an array.\n",
    "###### `np.transpose(array)` - Permute the dimensions of an array.\n",
    "\n",
    "\n",
    "## `Conclusion`\n",
    "\n",
    "##### This tutorial provides a comprehensive overview of NumPy's capabilities. Practice these examples and scenarios to get a solid understanding of how NumPy can be used in various data analysis tasks. Encourage students to experiment with the code and come up with their own scenarios for a deeper understanding."
   ]
  },
  {
   "cell_type": "markdown",
   "metadata": {},
   "source": []
  }
 ],
 "metadata": {
  "kernelspec": {
   "display_name": "tutor",
   "language": "python",
   "name": "python3"
  },
  "language_info": {
   "codemirror_mode": {
    "name": "ipython",
    "version": 3
   },
   "file_extension": ".py",
   "mimetype": "text/x-python",
   "name": "python",
   "nbconvert_exporter": "python",
   "pygments_lexer": "ipython3",
   "version": "3.11.2"
  }
 },
 "nbformat": 4,
 "nbformat_minor": 2
}
