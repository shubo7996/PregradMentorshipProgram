{
 "cells": [
  {
   "cell_type": "markdown",
   "metadata": {},
   "source": [
    "## **Subqueries and Window Functions in SQL**"
   ]
  },
  {
   "cell_type": "markdown",
   "metadata": {},
   "source": [
    "###  `Setting Up the Database`\n",
    "##### We'll create a sample database and tables to use in our examples"
   ]
  },
  {
   "cell_type": "code",
   "execution_count": null,
   "metadata": {
    "vscode": {
     "languageId": "sql"
    }
   },
   "outputs": [],
   "source": [
    "-- Active: 1723560744721@@127.0.0.1@3306@sakila\n",
    "-- CREATE DATABASE SalesDB;\n",
    "-- USE SalesDB;\n",
    "-- Drop Database SalesDB;\n",
    "\n",
    "CREATE TABLE Employees (\n",
    "    EmployeeID INT PRIMARY KEY,\n",
    "    FirstName VARCHAR(50),\n",
    "    LastName VARCHAR(50),\n",
    "    Department VARCHAR(50),\n",
    "    Salary DECIMAL(10, 2),\n",
    "    HireDate DATE\n",
    ");\n",
    "\n",
    "CREATE TABLE Sales (\n",
    "    SaleID INT PRIMARY KEY,\n",
    "    EmployeeID INT,\n",
    "    SaleAmount DECIMAL(10, 2),\n",
    "    SaleDate DATE,\n",
    "    FOREIGN KEY (EmployeeID) REFERENCES Employees(EmployeeID)\n",
    ");\n"
   ]
  },
  {
   "cell_type": "code",
   "execution_count": null,
   "metadata": {
    "vscode": {
     "languageId": "sql"
    }
   },
   "outputs": [],
   "source": [
    "-- Inserting sample data\n",
    "INSERT INTO Employees VALUES\n",
    "(1, 'John', 'Doe', 'Sales', 60000, '2015-03-15'),\n",
    "(2, 'Jane', 'Smith', 'Sales', 70000, '2016-05-22'),\n",
    "(3, 'Mike', 'Johnson', 'IT', 90000, '2018-08-01'),\n",
    "(4, 'Emily', 'Davis', 'HR', 75000, '2017-11-13');\n",
    "\n",
    "INSERT INTO Sales VALUES\n",
    "(101, 1, 5000, '2024-07-01'),\n",
    "(102, 1, 7000, '2024-07-15'),\n",
    "(103, 2, 6000, '2024-07-05'),\n",
    "(104, 2, 8000, '2024-07-20'),\n",
    "(105, 1, 9000, '2024-07-25');"
   ]
  },
  {
   "cell_type": "markdown",
   "metadata": {},
   "source": [
    "## **Subqueries**\n",
    "\n",
    "## What is a `Subquery`?\n",
    "\n",
    "#### A subquery is a query nested inside another query. It can be used to return data that will be used by the main query as a condition to further restrict the data to be retrieved. Subqueries are often used in WHERE, SELECT, FROM, and HAVING clauses.\n",
    "\n",
    "## `Types of Subqueries`\n",
    "\n",
    "#### `Single-Row Subquery`: Returns a single row.\n",
    "#### `Multi-Row Subquery`: Returns multiple rows.\n",
    "#### `Correlated Subquery`: The subquery depends on the outer query for its values.\n",
    "#### `Nested Subquery`: A subquery within another subquery.\n"
   ]
  },
  {
   "cell_type": "markdown",
   "metadata": {},
   "source": [
    "## **Examples of Subqueries**\n",
    "\n",
    "### **Single-Row Subquery**"
   ]
  },
  {
   "cell_type": "code",
   "execution_count": null,
   "metadata": {
    "vscode": {
     "languageId": "sql"
    }
   },
   "outputs": [],
   "source": [
    "select * from employees"
   ]
  },
  {
   "cell_type": "code",
   "execution_count": null,
   "metadata": {
    "vscode": {
     "languageId": "sql"
    }
   },
   "outputs": [],
   "source": [
    "-- Let's find the employee with the highest salary:\n",
    "\n",
    "\n",
    "SELECT  MAX(Salary) as max_salary FROM Employees\n",
    "\n",
    "SELECT * FROM Employees\n",
    "WHERE Salary = (SELECT MAX(Salary) FROM Employees);\n",
    "\n",
    "\n",
    "-- Explanation:\n",
    "\n",
    "-- The subquery (SELECT MAX(Salary) FROM Employees) returns the maximum salary.\n",
    "-- The main query retrieves the employee details with that salary"
   ]
  },
  {
   "cell_type": "markdown",
   "metadata": {},
   "source": [
    "### **Multi-Row Subquery**"
   ]
  },
  {
   "cell_type": "code",
   "execution_count": null,
   "metadata": {
    "vscode": {
     "languageId": "sql"
    }
   },
   "outputs": [],
   "source": [
    "-- find employees whose salary is higher than the average salary in the company\n",
    "-- what is the average salary in the company?\n",
    "--- which employees have sal > avg sal.\n",
    "\n",
    "SELECT AVG(Salary) FROM Employees \n",
    "\n",
    "SELECT * FROM Employees\n",
    "WHERE Salary > (SELECT AVG(Salary) FROM Employees);\n",
    "\n",
    "\n",
    "-- Explanation:\n",
    "\n",
    "-- The subquery (SELECT AVG(Salary) FROM Employees) calculates the average salary.\n",
    "-- The main query selects employees whose salary is greater than the average"
   ]
  },
  {
   "cell_type": "markdown",
   "metadata": {},
   "source": [
    "### **Nested Subquery**"
   ]
  },
  {
   "cell_type": "code",
   "execution_count": null,
   "metadata": {
    "vscode": {
     "languageId": "sql"
    }
   },
   "outputs": [],
   "source": [
    "-- find the employees who have made a sale on the most recent sale date:\n",
    "\n",
    "SELECT * FROM Employees\n",
    "WHERE EmployeeID IN (\n",
    "    SELECT EmployeeID FROM Sales\n",
    "    WHERE SaleDate = (SELECT MAX(SaleDate) FROM Sales)\n",
    ");\n",
    "\n",
    "-- Explanation:\n",
    "\n",
    "-- The innermost subquery finds the most recent sale date.\n",
    "-- The middle subquery retrieves the EmployeeID of those who made a sale on that date.\n",
    "-- The outer query retrieves the employee details.\n"
   ]
  },
  {
   "cell_type": "code",
   "execution_count": null,
   "metadata": {
    "vscode": {
     "languageId": "sql"
    }
   },
   "outputs": [],
   "source": [
    "-- find the details of the most recent sale made by each employee\n",
    "\n",
    "--101\n",
    "\n",
    "SELECT EmployeeID, SaleID, SaleAmount, SaleDate\n",
    "FROM Sales\n",
    "WHERE SaleDate = (\n",
    "    SELECT MAX(SaleDate)\n",
    "    FROM Sales s2\n",
    "    WHERE s2.EmployeeID = Sales.EmployeeID\n",
    ");\n",
    "\n",
    "-- Explanation:\n",
    "\n",
    "-- The subquery depends on the outer query (e.EmployeeID).\n",
    "-- It checks for each employee if there's a sale they made that exceeds their average sale amount.\n"
   ]
  },
  {
   "cell_type": "markdown",
   "metadata": {},
   "source": [
    "## **Correlated Subquery**"
   ]
  },
  {
   "cell_type": "code",
   "execution_count": null,
   "metadata": {
    "vscode": {
     "languageId": "sql"
    }
   },
   "outputs": [],
   "source": [
    "-- find employees who have made sales that are greater than the average sale amount for each employee:\n",
    "\n",
    "--what is the avg sales amount for each employee?\n",
    "\n",
    "SELECT AVG(SaleAmount) FROM Sales s \n",
    "\n",
    "\n",
    "SELECT EmployeeID, FirstName, LastName FROM Employees e\n",
    "WHERE EXISTS (\n",
    "    SELECT 1 FROM Sales s\n",
    "    WHERE s.EmployeeID = e.EmployeeID\n",
    "    AND s.SaleAmount > (SELECT AVG(SaleAmount) FROM Sales s WHERE s.EmployeeID = e.EmployeeID)\n",
    ");\n",
    "\n",
    "\n",
    "#101--->saleamt--> greater than avg (salesamt)\n",
    "\n",
    "-- Explanation:\n",
    "\n",
    "-- Main Query:\n",
    "\n",
    "-- The outer query selects EmployeeID, FirstName, and LastName from the Employees table.\n",
    "-- Correlated Subquery:\n",
    "\n",
    "-- The subquery inside the WHERE EXISTS clause is executed for each row of the outer query.\n",
    "-- s.EmployeeID = e.EmployeeID: This part of the subquery links the subquery to the current row of the outer query (correlation). It ensures we are checking sales made by the same employee.\n",
    "-- The subquery checks if there is any sale amount (SaleAmount) for that employee which is greater than their average sale amount.\n",
    "-- EXISTS returns TRUE if the subquery finds at least one row matching the condition.\n",
    "-- Outcome:\n",
    "\n",
    "-- The query returns employees who have at least one sale above their average sale amount."
   ]
  },
  {
   "cell_type": "markdown",
   "metadata": {},
   "source": [
    "## **Examples of Window Functions**"
   ]
  },
  {
   "cell_type": "markdown",
   "metadata": {},
   "source": [
    "### **`ROW_NUMBER()`**"
   ]
  },
  {
   "cell_type": "code",
   "execution_count": null,
   "metadata": {
    "vscode": {
     "languageId": "sql"
    }
   },
   "outputs": [],
   "source": [
    "-- Let's assign a unique row number to each employee in the Sales department based on their salary, ordered from highest to lowest\n",
    "\n",
    "SELECT EmployeeID, FirstName, LastName, Salary,Department,\n",
    "       ROW_NUMBER() OVER (PARTITION BY Department ORDER BY Salary DESC) as RowNum\n",
    "FROM Employees;\n",
    "--WHERE Department = 'Sales';\n",
    "\n",
    "\n",
    "-- Explanation:\n",
    "\n",
    "-- PARTITION BY Department divides the data by department.\n",
    "-- ORDER BY Salary DESC orders the employees by salary in descending order within the Sales department.\n",
    "-- ROW_NUMBER() assigns a unique number to each row.\n"
   ]
  },
  {
   "cell_type": "markdown",
   "metadata": {},
   "source": [
    "### **`RANK()`**"
   ]
  },
  {
   "cell_type": "code",
   "execution_count": null,
   "metadata": {
    "vscode": {
     "languageId": "sql"
    }
   },
   "outputs": [],
   "source": [
    "-- Let's rank the employees based on their salary:\n",
    "\n",
    "SELECT EmployeeID, FirstName, LastName, Salary,Department,\n",
    "       RANK() OVER (PARTITION BY Department ORDER BY Salary DESC) as SalaryRank\n",
    "FROM Employees;\n",
    "\n",
    "\n",
    "-- Explanation:\n",
    "\n",
    "-- RANK() assigns a rank to each employee based on their salary.\n",
    "-- Employees with the same salary receive the same rank, and the next rank is skipped.\n"
   ]
  },
  {
   "cell_type": "markdown",
   "metadata": {},
   "source": [
    "### **`DENSE_RANK()`**"
   ]
  },
  {
   "cell_type": "code",
   "execution_count": null,
   "metadata": {
    "vscode": {
     "languageId": "sql"
    }
   },
   "outputs": [],
   "source": [
    "-- Let's use DENSE_RANK() to avoid gaps in ranking:\n",
    "\n",
    "SELECT EmployeeID, FirstName, LastName, Salary,\n",
    "       DENSE_RANK() OVER (ORDER BY Salary DESC) as SalaryDenseRank\n",
    "FROM Employees;\n",
    "\n",
    "-- Explanation:\n",
    "\n",
    "-- DENSE_RANK() is similar to RANK(), but it doesn’t skip ranks when there are ties"
   ]
  },
  {
   "cell_type": "markdown",
   "metadata": {},
   "source": [
    "### **`SUM()` as a Window Function**"
   ]
  },
  {
   "cell_type": "code",
   "execution_count": null,
   "metadata": {
    "vscode": {
     "languageId": "sql"
    }
   },
   "outputs": [],
   "source": [
    "--calculate the cumulative sales made by each employee\n",
    "\n",
    "SELECT EmployeeID, SaleID, SaleAmount,\n",
    "       SUM(SaleAmount) OVER (PARTITION BY EmployeeID ORDER BY SaleDate) as CumulativeSales\n",
    "FROM Sales;\n",
    "\n",
    "--calculate the avg salary per department.\n",
    "-- HW\n",
    "-- select EmployeeID,FirstName,LastName,Department,avg_sal\n",
    "-- from employees IN\n",
    "-- (select *, \n",
    "--     avg(Salary) over (partition by Department) as avg_sal\n",
    "--     from Employees)\n",
    "\n",
    "\n",
    "\n",
    "-- Explanation:\n",
    "\n",
    "-- PARTITION BY EmployeeID calculates the cumulative sum for each employee.\n",
    "-- ORDER BY SaleDate ensures that the cumulative sum is calculated in the order of the sales."
   ]
  },
  {
   "cell_type": "markdown",
   "metadata": {},
   "source": [
    "### **`LEAD() and LAG()`**"
   ]
  },
  {
   "cell_type": "code",
   "execution_count": null,
   "metadata": {
    "vscode": {
     "languageId": "sql"
    }
   },
   "outputs": [],
   "source": [
    "--use LEAD() to find the difference in salary between the current employee and the next highest paid employee:\n",
    "\n",
    "SELECT EmployeeID, FirstName, LastName, Salary,\n",
    "       LEAD(Salary, 1) OVER (ORDER BY Salary DESC) as NextHigherSalary,\n",
    "       Salary - LEAD(Salary, 1) OVER (ORDER BY Salary DESC) as SalaryDifference\n",
    "FROM Employees;\n",
    "\n",
    "\n",
    "-- SELECT EmployeeID, FirstName, LastName, Salary,\n",
    "--        LEAD(Salary, 1) OVER (ORDER BY Salary DESC) as NextHigherSalary,\n",
    "--        LAG(Salary,1) OVER (ORDER BY Salary DESC) as SalaryDifference\n",
    "-- FROM Employees;\n",
    "\n",
    "-- Explanation:\n",
    "\n",
    "-- LEAD(Salary, 1) gets the salary of the next row (i.e., the next highest paid employee).\n",
    "-- Salary - LEAD(Salary, 1) calculates the difference between the current employee's salary and the next"
   ]
  },
  {
   "cell_type": "markdown",
   "metadata": {},
   "source": [
    "### **`NTILE()`**"
   ]
  },
  {
   "cell_type": "code",
   "execution_count": null,
   "metadata": {
    "vscode": {
     "languageId": "sql"
    }
   },
   "outputs": [],
   "source": [
    "-- divide employees into quartiles based on their salary:\n",
    "\n",
    "SELECT EmployeeID, FirstName, LastName, Salary,\n",
    "       NTILE(4) OVER (ORDER BY Salary DESC) as SalaryQuartile\n",
    "FROM Employees;\n",
    "\n",
    "-- Explanation:\n",
    "\n",
    "-- NTILE(4) divides the employees into four quartiles based on their salary.\n",
    "-- ORDER BY Salary DESC ensures the highest salaries are in the first quartile."
   ]
  }
 ],
 "metadata": {
  "kernelspec": {
   "display_name": ".venv",
   "language": "python",
   "name": "python3"
  },
  "language_info": {
   "codemirror_mode": {
    "name": "ipython",
    "version": 3
   },
   "file_extension": ".py",
   "mimetype": "text/x-python",
   "name": "python",
   "nbconvert_exporter": "python",
   "pygments_lexer": "ipython3",
   "version": "3.11.9"
  }
 },
 "nbformat": 4,
 "nbformat_minor": 2
}
