{
 "cells": [
  {
   "cell_type": "markdown",
   "metadata": {},
   "source": [
    "## `Assigning Functions to Variables`\n",
    "\n",
    "##### Create a function that will add one to a number whenever it is called. Then assign the function to a variable and Use this variable to call the function"
   ]
  },
  {
   "cell_type": "code",
   "execution_count": 3,
   "metadata": {},
   "outputs": [
    {
     "data": {
      "text/plain": [
       "6"
      ]
     },
     "execution_count": 3,
     "metadata": {},
     "output_type": "execute_result"
    }
   ],
   "source": [
    "def plus_one(number):\n",
    "    return number + 1\n",
    "\n",
    "\n",
    "\n",
    "add_one=plus_one\n",
    "\n",
    "add_one(5)"
   ]
  },
  {
   "cell_type": "markdown",
   "metadata": {},
   "source": [
    "## `Defining Functions Inside other Functions`\n",
    "\n",
    "##### Define a function inside another function in Python."
   ]
  },
  {
   "cell_type": "code",
   "execution_count": 4,
   "metadata": {},
   "outputs": [
    {
     "data": {
      "text/plain": [
       "5"
      ]
     },
     "execution_count": 4,
     "metadata": {},
     "output_type": "execute_result"
    }
   ],
   "source": [
    "def plus_one(number):\n",
    "    \n",
    "    #inside function\n",
    "    def add_one(number):\n",
    "        return number + 1\n",
    "\n",
    "    result = add_one(number)\n",
    "    return result\n",
    "\n",
    "plus_one(4)\n"
   ]
  },
  {
   "cell_type": "markdown",
   "metadata": {},
   "source": [
    "## `Passing Functions as Arguments to other Functions`\n",
    "\n",
    "##### Functions can also be passed as parameters to other functions.\n",
    "\n",
    "\n"
   ]
  },
  {
   "cell_type": "code",
   "execution_count": 14,
   "metadata": {},
   "outputs": [
    {
     "data": {
      "text/plain": [
       "7"
      ]
     },
     "execution_count": 14,
     "metadata": {},
     "output_type": "execute_result"
    }
   ],
   "source": [
    "def plus_one(number):\n",
    "    return number + 1\n",
    "\n",
    "def function_call(function):\n",
    "    return function(5) #plus_one(5)\n",
    "\n",
    "#function_call(plus_one)\n",
    "\n",
    "plus_one(function_call(plus_one)) #function_call(plus_one)-->6 plus_one(6)--->7\n"
   ]
  },
  {
   "cell_type": "markdown",
   "metadata": {},
   "source": [
    "## `Functions Returning other Functions`\n",
    "\n",
    "##### A function can also generate another function.\n",
    "\n",
    "\n"
   ]
  },
  {
   "cell_type": "code",
   "execution_count": 11,
   "metadata": {},
   "outputs": [
    {
     "data": {
      "text/plain": [
       "'Hi'"
      ]
     },
     "execution_count": 11,
     "metadata": {},
     "output_type": "execute_result"
    }
   ],
   "source": [
    "def hello_function():\n",
    "    \n",
    "    #Inside function``\n",
    "    def say_hi():\n",
    "        return \"Hi\"\n",
    "    \n",
    "    return say_hi\n",
    "\n",
    "hello = hello_function()\n",
    "hello()\n"
   ]
  },
  {
   "cell_type": "markdown",
   "metadata": {},
   "source": [
    "## `Nested Functions have access to the Enclosing Function's Variable Scope`\n",
    "\n",
    "##### Python allows a nested function to access the outer scope of the enclosing function. This is a critical concept in decorators -- this pattern is known as a `Closure`"
   ]
  },
  {
   "cell_type": "code",
   "execution_count": 15,
   "metadata": {},
   "outputs": [
    {
     "name": "stdout",
     "output_type": "stream",
     "text": [
      "Some random message\n"
     ]
    }
   ],
   "source": [
    "#Enclosing Function\n",
    "\n",
    "# def message_sender(message):\n",
    "#     print(message)\n",
    "\n",
    "def print_message(message):\n",
    "    \n",
    "    def message_sender():\n",
    "        #Nested Function\n",
    "        print(message)\n",
    "\n",
    "    message_sender(message=message)\n",
    "\n",
    "print_message(message=\"Some random message\")\n"
   ]
  },
  {
   "cell_type": "markdown",
   "metadata": {},
   "source": [
    "## `Decorators`\n",
    "\n",
    "##### A decorator is a design pattern in Python that allows a user to add new functionality to an existing object without modifying its structure. Decorators are typically applied to functions, and they play a crucial role in enhancing or modifying the behavior of functions. Traditionally, decorators are placed before the definition of a function you want to decorate"
   ]
  },
  {
   "cell_type": "code",
   "execution_count": 21,
   "metadata": {},
   "outputs": [],
   "source": [
    "#outside\n",
    "def outside_function(function): #functions as a parameter\n",
    "    \n",
    "    def inside_function():\n",
    "        func=function() #say_hi()\n",
    "        make_uppercase = func.upper() #HELLO THERE        \n",
    "        return make_uppercase # A string\n",
    "\n",
    "    return inside_function #function-->#string"
   ]
  },
  {
   "cell_type": "code",
   "execution_count": 24,
   "metadata": {},
   "outputs": [
    {
     "data": {
      "text/plain": [
       "'HELLO THERE'"
      ]
     },
     "execution_count": 24,
     "metadata": {},
     "output_type": "execute_result"
    }
   ],
   "source": [
    "\n",
    "\n",
    "# A Decorator would be used on a function, \n",
    "# only when we know that that particular function \n",
    "# is going to be passed as a parameter to \\\n",
    "# our decorator function. \n",
    "\n",
    "@outside_function #Decorator syntax\n",
    "def say_hi():\n",
    "    return 'hello there'\n",
    "\n",
    "say_hi()"
   ]
  },
  {
   "cell_type": "markdown",
   "metadata": {},
   "source": [
    "## Using a `Decorator` to have `Encapsulation` Feature "
   ]
  },
  {
   "cell_type": "code",
   "execution_count": 26,
   "metadata": {},
   "outputs": [],
   "source": [
    "class Employee:\n",
    "    def __init__(self):\n",
    "        #Default Constructor \n",
    "        self._name = '' #private\n",
    "        self._age= 0\n",
    "    \n",
    "    #get the employee name\n",
    "    def get_name(self):\n",
    "        print('Name getter Method')\n",
    "        return self._name\n",
    "    \n",
    "    #set the employee name\n",
    "    def set_name(self, value):\n",
    "        print('Name Setter Method')\n",
    "        self._name = value.upper()\n",
    "\n",
    "    #get the employee age\n",
    "    def get_age(self):\n",
    "        print('Age getter Method')\n",
    "        return self._age\n",
    "    \n",
    "    #set the employee age \n",
    "    def set_age(self, value):\n",
    "        print('Age Setter Method')\n",
    "        self._age=value\n",
    "\n",
    "    name=property(get_name, set_name) #Property() is an inbuilt python object. #Property() is a an outside function that takes functions aas a parametr.\n",
    "    age=property(get_age,set_age)\n"
   ]
  },
  {
   "cell_type": "code",
   "execution_count": 27,
   "metadata": {},
   "outputs": [],
   "source": [
    "empObj=Employee()"
   ]
  },
  {
   "cell_type": "code",
   "execution_count": 33,
   "metadata": {},
   "outputs": [],
   "source": [
    "empObj.name='Subham'\n",
    "\n",
    "empObj._name='XYZ'"
   ]
  },
  {
   "cell_type": "code",
   "execution_count": 28,
   "metadata": {},
   "outputs": [
    {
     "name": "stdout",
     "output_type": "stream",
     "text": [
      "Name Setter Method\n"
     ]
    }
   ],
   "source": [
    "empObj.name='Subham'"
   ]
  },
  {
   "cell_type": "code",
   "execution_count": 36,
   "metadata": {},
   "outputs": [
    {
     "name": "stdout",
     "output_type": "stream",
     "text": [
      "Name getter Method\n",
      "XYZ\n"
     ]
    }
   ],
   "source": [
    "print(empObj.name)"
   ]
  },
  {
   "cell_type": "code",
   "execution_count": 31,
   "metadata": {},
   "outputs": [
    {
     "name": "stdout",
     "output_type": "stream",
     "text": [
      "Age Setter Method\n",
      "Age getter Method\n",
      "25\n"
     ]
    }
   ],
   "source": [
    "empObj.age=25\n",
    "print(empObj.age)"
   ]
  },
  {
   "cell_type": "code",
   "execution_count": 53,
   "metadata": {},
   "outputs": [],
   "source": [
    "class Employee:\n",
    "    def __init__(self):\n",
    "        self._name = ''\n",
    "        self._age= 0\n",
    "    \n",
    "    @property #Decorator\n",
    "    def name(self):\n",
    "        print('Name getter Method')\n",
    "        return self._name\n",
    "    \n",
    "    @name.setter\n",
    "    def name(self, value):\n",
    "        print('Name Setter Method')\n",
    "        self._name = value.upper()\n",
    "    \n",
    "    @property\n",
    "    def get_age(self):\n",
    "        print('Age getter Method')\n",
    "        return self._age\n",
    "    \n",
    "    @get_age.setter\n",
    "    def set_age(self, value):\n",
    "        print('Age Setter Method')\n",
    "        self._age=value\n",
    "\n"
   ]
  },
  {
   "cell_type": "code",
   "execution_count": 37,
   "metadata": {},
   "outputs": [],
   "source": [
    "empObj=Employee()"
   ]
  },
  {
   "cell_type": "code",
   "execution_count": 38,
   "metadata": {},
   "outputs": [
    {
     "name": "stdout",
     "output_type": "stream",
     "text": [
      "Name Setter Method\n"
     ]
    }
   ],
   "source": [
    "empObj.name='Subham'"
   ]
  },
  {
   "cell_type": "code",
   "execution_count": 56,
   "metadata": {},
   "outputs": [
    {
     "name": "stdout",
     "output_type": "stream",
     "text": [
      "Name getter Method\n"
     ]
    },
    {
     "data": {
      "text/plain": [
       "'SUBHAM'"
      ]
     },
     "execution_count": 56,
     "metadata": {},
     "output_type": "execute_result"
    }
   ],
   "source": [
    "empObj.name"
   ]
  },
  {
   "cell_type": "code",
   "execution_count": null,
   "metadata": {},
   "outputs": [],
   "source": []
  }
 ],
 "metadata": {
  "kernelspec": {
   "display_name": "Python 3",
   "language": "python",
   "name": "python3"
  },
  "language_info": {
   "codemirror_mode": {
    "name": "ipython",
    "version": 3
   },
   "file_extension": ".py",
   "mimetype": "text/x-python",
   "name": "python",
   "nbconvert_exporter": "python",
   "pygments_lexer": "ipython3",
   "version": "3.11.2"
  }
 },
 "nbformat": 4,
 "nbformat_minor": 2
}
